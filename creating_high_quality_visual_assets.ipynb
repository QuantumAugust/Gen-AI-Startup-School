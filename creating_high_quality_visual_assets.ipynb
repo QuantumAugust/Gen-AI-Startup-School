{
  "cells": [
    {
      "cell_type": "code",
      "execution_count": null,
      "metadata": {
        "id": "uxCkB_DXTHzf"
      },
      "outputs": [],
      "source": [
        "# Copyright 2024 Google LLC\n",
        "#\n",
        "# Licensed under the Apache License, Version 2.0 (the \"License\");\n",
        "# you may not use this file except in compliance with the License.\n",
        "# You may obtain a copy of the License at\n",
        "#\n",
        "#     https://www.apache.org/licenses/LICENSE-2.0\n",
        "#\n",
        "# Unless required by applicable law or agreed to in writing, software\n",
        "# distributed under the License is distributed on an \"AS IS\" BASIS,\n",
        "# WITHOUT WARRANTIES OR CONDITIONS OF ANY KIND, either express or implied.\n",
        "# See the License for the specific language governing permissions and\n",
        "# limitations under the License."
      ]
    },
    {
      "cell_type": "markdown",
      "metadata": {
        "id": "Hny4I-ODTIS6"
      },
      "source": [
        "# Create High Quality Visual Assets with Imagen and Gemini\n",
        "\n",
        "<table align=\"left\">\n",
        "  <td style=\"text-align: center\">\n",
        "    <a href=\"https://colab.research.google.com/github/GoogleCloudPlatform/generative-ai/blob/main/vision/use-cases/creating-high-quality-visual-assets-with-gemini-and-imagen.ipynb\">\n",
        "      <img src=\"https://cloud.google.com/ml-engine/images/colab-logo-32px.png\" alt=\"Google Colaboratory logo\"><br> Run in Colab\n",
        "    </a>\n",
        "  </td>\n",
        "  <td style=\"text-align: center\">\n",
        "    <a href=\"https://github.com/GoogleCloudPlatform/generative-ai/blob/main/vision/use-cases/creating-high-quality-visual-assets-with-gemini-and-imagen.ipynb\">\n",
        "      <img src=\"https://cloud.google.com/ml-engine/images/github-logo-32px.png\" alt=\"GitHub logo\"><br> View on GitHub\n",
        "    </a>\n",
        "  </td>\n",
        "  <td style=\"text-align: center\">\n",
        "    <a href=\"https://console.cloud.google.com/vertex-ai/workbench/deploy-notebook?download_url=https://raw.githubusercontent.com/GoogleCloudPlatform/generative-ai/blob/main/vision/use-cases/creating-high-quality-visual-assets-with-gemini-and-imagen.ipynb\">\n",
        "      <img src=\"https://lh3.googleusercontent.com/UiNooY4LUgW_oTvpsNhPpQzsstV5W8F7rYgxgGBD85cWJoLmrOzhVs_ksK_vgx40SHs7jCqkTkCk=e14-rj-sc0xffffff-h130-w32\" alt=\"Vertex AI logo\"><br> Open in Vertex AI Workbench\n",
        "    </a>\n",
        "  </td>\n",
        "</table>\n"
      ]
    },
    {
      "cell_type": "markdown",
      "metadata": {
        "id": "-nLS57E2TO5y"
      },
      "source": [
        "## Overview\n",
        "\n",
        "[Imagen on Vertex AI](https://cloud.google.com/vertex-ai/docs/generative-ai/image/overview) lets developers quickly generate high-quality images from simple text descriptions. Build and edit innovative AI-powered imagery with ease."
      ]
    },
    {
      "cell_type": "markdown",
      "metadata": {
        "id": "iXsvgIuwTPZw"
      },
      "source": [
        "### Objectives\n",
        "\n",
        "In this notebook, you will create high quality visual assets for a restaurant menu using Imagen and Gemini. You will:\n",
        "\n",
        "- Generate an image prompt with Gemini Pro\n",
        "- Use Imagen to create high quality images using prompts\n",
        "- Implement a short pipeline to produce highly-detailed visual assets"
      ]
    },
    {
      "cell_type": "markdown",
      "metadata": {
        "id": "skXAu__iqks_"
      },
      "source": [
        "### Costs\n",
        "\n",
        "- This notebook uses billable components of Google Cloud:\n",
        "  - Vertex AI\n",
        "\n",
        "- Learn about [Vertex AI pricing](https://cloud.google.com/vertex-ai/pricing) and use the [Pricing Calculator](https://cloud.google.com/products/calculator/) to generate a cost estimate based on your projected usage."
      ]
    },
    {
      "cell_type": "markdown",
      "metadata": {
        "id": "mvKl-BtQTRiQ"
      },
      "source": [
        "## Getting Started"
      ]
    },
    {
      "cell_type": "markdown",
      "metadata": {
        "id": "PwFMpIMrTV_4"
      },
      "source": [
        "### Install Vertex AI SDK for Python"
      ]
    },
    {
      "cell_type": "code",
      "execution_count": null,
      "metadata": {
        "id": "WYUu8VMdJs3V"
      },
      "outputs": [],
      "source": [
        "! pip install --quiet --upgrade --user google-cloud-aiplatform"
      ]
    },
    {
      "cell_type": "markdown",
      "metadata": {
        "id": "R5Xep4W9lq-Z"
      },
      "source": [
        "### Restart current runtime\n",
        "\n",
        "To use the newly installed packages in this Jupyter runtime, you must restart the runtime. You can do this by running the cell below, which restarts the kernel."
      ]
    },
    {
      "cell_type": "code",
      "execution_count": null,
      "metadata": {
        "colab": {
          "base_uri": "https://localhost:8080/"
        },
        "id": "XRvKdaPDTznN",
        "outputId": "0db4ed6e-8f97-4bc6-c320-052494d7e30d"
      },
      "outputs": [],
      "source": [
        "# Restart kernel after installs so that your environment can access the new packages\n",
        "import IPython\n",
        "import time\n",
        "\n",
        "app = IPython.Application.instance()\n",
        "app.kernel.do_shutdown(True)"
      ]
    },
    {
      "cell_type": "markdown",
      "metadata": {
        "id": "SbmM4z7FOBpM"
      },
      "source": [
        "<div class=\"alert alert-block alert-warning\">\n",
        "<b>⚠️ The kernel will restart. Please wait until it completes before continuing to the next step. ⚠️</b>\n",
        "</div>"
      ]
    },
    {
      "cell_type": "markdown",
      "metadata": {
        "id": "opUxT_k5TdgP"
      },
      "source": [
        "### Authenticate your notebook environment (Colab only)\n",
        "\n",
        "If you are running this notebook on Google Colab, run the following cell to authenticate your environment. This step is not required if you are using [Vertex AI Workbench](https://cloud.google.com/vertex-ai-workbench)."
      ]
    },
    {
      "cell_type": "code",
      "execution_count": null,
      "metadata": {
        "id": "vbNgv4q1T2Mi"
      },
      "outputs": [],
      "source": [
        "import sys\n",
        "\n",
        "# Addtional authentication is required for Google Colab\n",
        "if \"google.colab\" in sys.modules:\n",
        "    # Authenticate user to Google Cloud\n",
        "    from google.colab import auth\n",
        "\n",
        "    auth.authenticate_user()"
      ]
    },
    {
      "cell_type": "markdown",
      "metadata": {
        "id": "ybBXSukZkgjg"
      },
      "source": [
        "### Define Google Cloud project information (Colab only)\n",
        "\n",
        "If you are running this notebook on Google Colab, specify the Google Cloud project information to use. In the following cell, you specify your project information, import the Vertex AI package, and initialize the package. This step is not required if you are using [Vertex AI Workbench](https://cloud.google.com/vertex-ai-workbench)."
      ]
    },
    {
      "cell_type": "code",
      "execution_count": null,
      "metadata": {
        "id": "5gUjJ42Nh5kf"
      },
      "outputs": [],
      "source": [
        "import sys\n",
        "import vertexai\n",
        "\n",
        "if \"google.colab\" in sys.modules:\n",
        "    # initialize vertex ai package\n",
        "    PROJECT_ID = \"your-project-id\"  # @param {type:\"string\"}\n",
        "    LOCATION = \"us-central1\"  # @param {type:\"string\"}\n",
        "    vertexai.init(project=PROJECT_ID, location=LOCATION)"
      ]
    },
    {
      "cell_type": "markdown",
      "metadata": {
        "id": "i-6H9Ccq9z8-"
      },
      "source": [
        "## Image Generation"
      ]
    },
    {
      "cell_type": "markdown",
      "metadata": {
        "id": "lhfneknwEDHT"
      },
      "source": [
        "### Load the image generation model\n",
        "\n",
        "The model names from Vertex AI Imagen have two components:\n",
        "* Model name\n",
        "* Version number\n",
        "\n",
        "For example, `imagegeneration@005` represent the **005** version of **imagegeneration** model.\n",
        "\n",
        "`imagegeneration@005` is also known as [Imagen 2](https://cloud.google.com/blog/products/ai-machine-learning/imagen-2-on-vertex-ai-is-now-generally-available).\n",
        "\n"
      ]
    },
    {
      "cell_type": "code",
      "execution_count": null,
      "metadata": {
        "id": "nEKPNLNL5RhD"
      },
      "outputs": [],
      "source": [
        "from vertexai.preview.vision_models import ImageGenerationModel\n",
        "\n",
        "imagen_model = ImageGenerationModel.from_pretrained(\"imagegeneration@005\")"
      ]
    },
    {
      "cell_type": "markdown",
      "metadata": {
        "id": "qLZagQ8NUDiB"
      },
      "source": [
        "### Generate your first image\n",
        "\n",
        "The `generate_image` function is used to generate images.\n",
        "\n",
        "All you need to input is a simple text prompt."
      ]
    },
    {
      "cell_type": "code",
      "execution_count": null,
      "metadata": {
        "colab": {
          "base_uri": "https://localhost:8080/",
          "height": 1000
        },
        "id": "0GYBwQuciCco",
        "outputId": "ce18d097-a888-4eb1-f5cc-83fd36e2a607"
      },
      "outputs": [],
      "source": [
        "\n",
        "image_prompt = \"A delicious pizza\"\n",
        "\n",
        "response = imagen_model.generate_images(\n",
        "    prompt=image_prompt,\n",
        ")\n",
        "\n",
        "response.images[0].show()"
      ]
    },
    {
      "cell_type": "markdown",
      "metadata": {
        "id": "hkUso32D6tIQ"
      },
      "source": [
        "### Generating more than one image\n",
        "\n",
        "You can currently generate up to **4** images at a time with Imagen. Imagen provides several variations based on your prompt.\n",
        "\n",
        "You will do that in the cell below. An axuillary function to display images in grid is also provided."
      ]
    },
    {
      "cell_type": "code",
      "execution_count": null,
      "metadata": {
        "id": "OK5nKWjP5jQh"
      },
      "outputs": [],
      "source": [
        "import math\n",
        "import matplotlib.pyplot as plt\n",
        "\n",
        "# An auxiliary function to display images in grid\n",
        "def display_images_in_grid(images):\n",
        "    nrows = math.ceil(len(images) / 4)  # Display at most 4 images per row\n",
        "    ncols = min(len(images) + 1, 4)  # Adjust columns based on the number of images\n",
        "\n",
        "    # Create a figure and axes for the grid layout.\n",
        "    fig, axes = plt.subplots(nrows=nrows, ncols=ncols, figsize=(12, 6))\n",
        "\n",
        "    for i, ax in enumerate(axes.flat):\n",
        "        if i < len(images):\n",
        "            ax.imshow(images[i]._pil_image)\n",
        "            ax.set_aspect(\"equal\")\n",
        "            ax.set_xticks([])\n",
        "            ax.set_yticks([])\n",
        "        else:\n",
        "            ax.axis(\"off\")\n",
        "\n",
        "    plt.tight_layout()\n",
        "    plt.show()"
      ]
    },
    {
      "cell_type": "code",
      "execution_count": null,
      "metadata": {
        "colab": {
          "base_uri": "https://localhost:8080/",
          "height": 318
        },
        "id": "bTjyMt_gBkOz",
        "outputId": "b99d8a2e-8934-431c-e59b-63e2499246e2"
      },
      "outputs": [],
      "source": [
        "image_prompt = \"delicious cupcakes\"\n",
        "\n",
        "response = imagen_model.generate_images(\n",
        "    prompt=image_prompt,\n",
        "    number_of_images=4,\n",
        ")\n",
        "\n",
        "display_images_in_grid(response.images)"
      ]
    },
    {
      "cell_type": "markdown",
      "metadata": {
        "id": "ZgbqGqAmksKE"
      },
      "source": [
        "### Load the Gemini Pro model\n",
        "\n",
        "To load the Gemini Pro model, provide **gemini-pro** as an argument to **GenerativeModel** constructor."
      ]
    },
    {
      "cell_type": "code",
      "execution_count": null,
      "metadata": {
        "id": "7fK44QsNkrUw"
      },
      "outputs": [],
      "source": [
        "from vertexai.preview.generative_models import GenerativeModel\n",
        "\n",
        "gemini_pro_model = GenerativeModel(\"gemini-pro\")"
      ]
    },
    {
      "cell_type": "markdown",
      "metadata": {
        "id": "yAJKZArKQUwm"
      },
      "source": [
        "### Use Gemini to generate text content\n",
        "\n",
        "The `generate_content` function can be used to generate content with Gemini Pro model. You just need to provide a simple textual prompt."
      ]
    },
    {
      "cell_type": "code",
      "execution_count": null,
      "metadata": {
        "colab": {
          "base_uri": "https://localhost:8080/"
        },
        "id": "UA7TfcQafPHB",
        "outputId": "11f9e541-fa51-4378-d2b8-e176d5c3e0ff"
      },
      "outputs": [],
      "source": [
        "# Provide text prompt and invoke generate_content\n",
        "text_prompt = \"What are the steps to open a restaurant?\"\n",
        "\n",
        "responses = gemini_pro_model.generate_content(\n",
        "    contents=text_prompt,\n",
        "    stream=True,\n",
        ")\n",
        "\n",
        "for res in responses:\n",
        "  print(res.text)"
      ]
    },
    {
      "cell_type": "markdown",
      "metadata": {
        "id": "KQgOkmtrfXR2"
      },
      "source": [
        "To improve the user experience and reproducibility, you will define a generation config and create a function to boostrap content generation with Gemini Pro."
      ]
    },
    {
      "cell_type": "code",
      "execution_count": null,
      "metadata": {
        "id": "8jDBQGbAxc4g"
      },
      "outputs": [],
      "source": [
        "from IPython.display import display, Markdown, Latex\n",
        "\n",
        "from vertexai.preview.generative_models import GenerationConfig\n",
        "\n",
        "\n",
        "# Provide text prompt and invoke generate_content\n",
        "def generate_content(prompt):\n",
        "  # Define generation config to improve reproducibility\n",
        "  generation_config = GenerationConfig(\n",
        "      temperature=0.5,\n",
        "      top_p=0.8,\n",
        "      top_k=10,\n",
        "      candidate_count=1,\n",
        "      max_output_tokens=1024,\n",
        "  )\n",
        "\n",
        "  responses = gemini_pro_model.generate_content(\n",
        "      contents=text_prompt,\n",
        "      generation_config=generation_config,\n",
        "      stream=True,\n",
        "  )\n",
        "\n",
        "  output = \"\"\n",
        "  for res in responses:\n",
        "    output += res.text.strip()\n",
        "\n",
        "  return output"
      ]
    },
    {
      "cell_type": "code",
      "execution_count": null,
      "metadata": {
        "colab": {
          "base_uri": "https://localhost:8080/",
          "height": 951
        },
        "id": "we3xMomwWn40",
        "outputId": "76728c07-52bc-4791-d49c-8b94b383b5b4"
      },
      "outputs": [],
      "source": [
        "text_prompt = \"What are the steps to open a restaurant?\"\n",
        "response = generate_content(text_prompt)\n",
        "\n",
        "display(Markdown(response))"
      ]
    },
    {
      "cell_type": "markdown",
      "metadata": {
        "id": "QxHYe8DnXAnP"
      },
      "source": [
        "### Generate a restaurant menu with Gemini Pro\n",
        "\n"
      ]
    },
    {
      "cell_type": "code",
      "execution_count": null,
      "metadata": {
        "colab": {
          "base_uri": "https://localhost:8080/",
          "height": 720
        },
        "id": "cPBXu12aPrRO",
        "outputId": "843569fe-a8f3-4eea-a98d-c0db0d75ef66"
      },
      "outputs": [],
      "source": [
        "text_prompt = \"Provide a menu for an Italian restaurant. Give each menu item a brief description.\"\n",
        "response = generate_content(text_prompt)\n",
        "\n",
        "display(Markdown(response))"
      ]
    },
    {
      "cell_type": "markdown",
      "metadata": {
        "id": "YlEB7Y5GWkvo"
      },
      "source": [
        "### Improve an existing image prompt Gemini Pro\n",
        "\n",
        "Here you'll use the image prompt technique of including a **style**, a **subject**, and a **context / background**."
      ]
    },
    {
      "cell_type": "code",
      "execution_count": null,
      "metadata": {
        "colab": {
          "base_uri": "https://localhost:8080/",
          "height": 665
        },
        "id": "Iz-oQe8mWAyh",
        "outputId": "a8982534-dda0-4688-c45f-06d31b4e9c87"
      },
      "outputs": [],
      "source": [
        "image_prompt = \"A delicious pizza\"\n",
        "\n",
        "prompt_template = \"\"\"\n",
        "  Rewrite \"{image_prompt}\" into an image prompt.\n",
        "  For example: A sketch of a modern apartment building surrounded by skyscrapers.\n",
        "  \"A sketch\" is a style.\n",
        "  \"A modern apartment building\" is a subject.\n",
        "  \"Surrounded by skyscrapers\" is a context and background.\n",
        "\n",
        "  Here are a few \"styles\" to get inspiration from:\n",
        "  - A studio photo\n",
        "  - A professional photo\n",
        "\n",
        "  Here are a few \"context and background\" to inspiration from:\n",
        "  - In a kitchen on a wooden surface with natural lighting\n",
        "  - On a marble counter top with studio lighting\n",
        "  - In an Italian restaurant\n",
        "\n",
        "  Rewritten prompt:\n",
        "\"\"\"\n",
        "\n",
        "text_prompt = prompt_template.format(image_prompt=image_prompt)\n",
        "rewritten_image_prompt = generate_content(text_prompt)\n",
        "\n",
        "print(f\"PROMPT: {text_prompt}\")\n",
        "print(f\"RESPONSE: \\n  {rewritten_image_prompt}\")\n",
        "\n",
        "response = imagen_model.generate_images(\n",
        "    prompt=rewritten_image_prompt,\n",
        "    number_of_images=4,\n",
        ")\n",
        "\n",
        "display_images_in_grid(response.images)"
      ]
    },
    {
      "cell_type": "markdown",
      "metadata": {
        "id": "AVciZj3QVs8Y"
      },
      "source": [
        "## Visual asset pipeline\n",
        "\n",
        "Now that you have seen Gemini Pro's capabilities to create a complete restaurant menu and how it can enhance the quality of image prompts, the next step is to establish a formal asset pipeline that leverages these abilities."
      ]
    },
    {
      "cell_type": "markdown",
      "metadata": {
        "id": "k8Yv6bZDTCuE"
      },
      "source": [
        "### Standardize the output as JSON format\n",
        "\n",
        "In the previous attempts, Gemini Pro returned either in Markdown or plaintext responses, which made it difficult to integrate with further steps.\n",
        "\n",
        "To solve this, we'll ask that Gemini standardize the response in JSON format. This will make the response easier to process and integrate downstream."
      ]
    },
    {
      "cell_type": "code",
      "execution_count": null,
      "metadata": {
        "colab": {
          "base_uri": "https://localhost:8080/"
        },
        "id": "5NvxrAWybH9K",
        "outputId": "823bbdb0-6d4d-4a08-866b-d08820cbfb9d"
      },
      "outputs": [],
      "source": [
        "text_prompt = \"\"\"\n",
        "  Provide a menu for an Italian restaurant in a JSON fomat.\n",
        "  Each item in the menu should have a name and a description.\n",
        "  The item description should contain the ingredients and how the item was prepared.\n",
        "  Don't include \"of the day\" items such as \"soup of the day\".\n",
        "\n",
        "  The parent fields should be starters, main courses, desserts, and drinks.\n",
        "  Parent fields should be lower cased.\n",
        "  The child fields should be name and description.\n",
        "  Do not include JSON decorator.\n",
        "  \"\"\"\n",
        "response = generate_content(text_prompt)\n",
        "print(response)"
      ]
    },
    {
      "cell_type": "code",
      "execution_count": null,
      "metadata": {
        "colab": {
          "base_uri": "https://localhost:8080/"
        },
        "id": "DE95LHFUcR2j",
        "outputId": "bf51954b-7944-4771-8f93-a0957799d366"
      },
      "outputs": [],
      "source": [
        "import json\n",
        "\n",
        "# Load the responses into a JSON format\n",
        "jsonized_response = json.loads(response)\n",
        "jsonized_response[\"starters\"]"
      ]
    },
    {
      "cell_type": "markdown",
      "metadata": {
        "id": "iyvzh4GE17oC"
      },
      "source": [
        "### Generating visual asset programmatically\n",
        "\n",
        "Using the jsonized menu, you will be creating a batch of images programatically using Imagen. You will use Gemini Pro model to rewrite each description into a detailed image prompt."
      ]
    },
    {
      "cell_type": "code",
      "execution_count": null,
      "metadata": {
        "colab": {
          "base_uri": "https://localhost:8080/"
        },
        "id": "KYlyLJdD_LOC",
        "outputId": "30bc54ba-f345-4359-8e6a-436710d29852"
      },
      "outputs": [],
      "source": [
        "# convert a description into an image prompt\n",
        "description = jsonized_response[\"starters\"][0][\"description\"]\n",
        "text_prompt = prompt_template.format(image_prompt=description)\n",
        "image_prompt = generate_content(text_prompt)\n",
        "\n",
        "print(f\"DESCRIPTION:\\n  {description}\\n\")\n",
        "print(f\"IMAGE PROMPT:\\n  {image_prompt}\\n\")"
      ]
    },
    {
      "cell_type": "markdown",
      "metadata": {
        "id": "hmgMzRtfRuZ6"
      },
      "source": [
        "Here you will generate **starters** from the menu"
      ]
    },
    {
      "cell_type": "code",
      "execution_count": null,
      "metadata": {
        "colab": {
          "base_uri": "https://localhost:8080/",
          "height": 1000
        },
        "id": "k3XlOUFfdG87",
        "outputId": "e8d2cf84-a14b-4216-e66a-fe2d7d83e75b"
      },
      "outputs": [],
      "source": [
        "for starter in jsonized_response[\"starters\"]:\n",
        "  text_prompt = prompt_template.format(image_prompt=starter[\"description\"])\n",
        "  image_prompt = generate_content(text_prompt)\n",
        "\n",
        "  print(f\"ORIGINAL: {starter['description']}\")\n",
        "  print(f\"IMPROVED: {image_prompt}\")\n",
        "\n",
        "  response = imagen_model.generate_images(\n",
        "    prompt=image_prompt,\n",
        "    number_of_images=4,\n",
        "  )\n",
        "\n",
        "  display_images_in_grid(response.images)\n",
        "  print()"
      ]
    },
    {
      "cell_type": "markdown",
      "metadata": {
        "id": "sk0eXjQ1nR4F"
      },
      "source": [
        "## Conclusion\n",
        "\n",
        "Congratulations! You have successfully created a professional restaurant menu with the help of Gemini and Imagen!\n",
        "\n",
        "Imagen on Vertex AI can do much more that generating realistic images. Imagen allows you to edit images, generate captions, ask questions of images, and more. Explore all the features of Imagen [here](https://cloud.google.com/vertex-ai/docs/generative-ai/image/overview).\n",
        "\n",
        "You may also explore the Imagen [prompting guide](https://cloud.google.com/vertex-ai/docs/generative-ai/image/img-gen-prompt-guide?_ga=2.128324367.-2094800479.1701746552&_gac=1.219926379.1701161688.CjwKCAiAvJarBhA1EiwAGgZl0LFQUFOFZUxfNPlzjB4T00PDiLeCIEYfY-coLbX9eUfHKr_i8VbtSBoCEJQQAvD_BwE) to enhance your prompting skills. Please note that you need to be allowlisted to see the full guide."
      ]
    }
  ],
  "metadata": {
    "colab": {
      "provenance": []
    },
    "environment": {
      "kernel": "python3",
      "name": "tf2-gpu.2-11.m110",
      "type": "gcloud",
      "uri": "gcr.io/deeplearning-platform-release/tf2-gpu.2-11:m110"
    },
    "kernelspec": {
      "display_name": "Python 3",
      "language": "python",
      "name": "python3"
    },
    "language_info": {
      "codemirror_mode": {
        "name": "ipython",
        "version": 3
      },
      "file_extension": ".py",
      "mimetype": "text/x-python",
      "name": "python",
      "nbconvert_exporter": "python",
      "pygments_lexer": "ipython3",
      "version": "3.10.12"
    }
  },
  "nbformat": 4,
  "nbformat_minor": 0
}

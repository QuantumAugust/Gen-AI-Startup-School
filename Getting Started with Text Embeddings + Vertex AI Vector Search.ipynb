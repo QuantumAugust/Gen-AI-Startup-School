{
 "cells": [
  {
   "cell_type": "code",
   "execution_count": null,
   "metadata": {
    "id": "c3_K0GGSTrhd"
   },
   "outputs": [],
   "source": [
    "# Copyright 2023 Google LLC\n",
    "#\n",
    "# Licensed under the Apache License, Version 2.0 (the \"License\");\n",
    "# you may not use this file except in compliance with the License.\n",
    "# You may obtain a copy of the License at\n",
    "#\n",
    "#     https://www.apache.org/licenses/LICENSE-2.0\n",
    "#\n",
    "# Unless required by applicable law or agreed to in writing, software\n",
    "# distributed under the License is distributed on an \"AS IS\" BASIS,\n",
    "# WITHOUT WARRANTIES OR CONDITIONS OF ANY KIND, either express or implied.\n",
    "# See the License for the specific language governing permissions and\n",
    "# limitations under the License."
   ]
  },
  {
   "cell_type": "markdown",
   "metadata": {
    "id": "7VQkf8sFTeDo"
   },
   "source": [
    "# Getting Started with Text Embeddings + Vertex AI Vector Search\n",
    "\n",
    "\n",
    "<table align=\"left\">\n",
    "  <td style=\"text-align: center\">\n",
    "    <a href=\"https://colab.research.google.com/github/GoogleCloudPlatform/generative-ai/blob/main/embeddings/intro-textemb-vectorsearch.ipynb\">\n",
    "      <img src=\"https://cloud.google.com/ml-engine/images/colab-logo-32px.png\" alt=\"Google Colaboratory logo\"><br> Run in Colab\n",
    "    </a>\n",
    "  </td>\n",
    "  <td style=\"text-align: center\">\n",
    "    <a href=\"https://github.com/GoogleCloudPlatform/generative-ai/blob/main/embeddings/intro-textemb-vectorsearch.ipynb\">\n",
    "      <img src=\"https://cloud.google.com/ml-engine/images/github-logo-32px.png\" alt=\"GitHub logo\"><br> View on GitHub\n",
    "    </a>\n",
    "  </td>\n",
    "  <td style=\"text-align: center\">\n",
    "    <a href=\"https://console.cloud.google.com/vertex-ai/workbench/deploy-notebook?download_url=https://raw.githubusercontent.com/GoogleCloudPlatform/generative-ai/main/embeddings/intro-textemb-vectorsearch.ipynb\">\n",
    "      <img src=\"https://lh3.googleusercontent.com/UiNooY4LUgW_oTvpsNhPpQzsstV5W8F7rYgxgGBD85cWJoLmrOzhVs_ksK_vgx40SHs7jCqkTkCk=e14-rj-sc0xffffff-h130-w32\" alt=\"Vertex AI logo\"><br> Open in Vertex AI Workbench\n",
    "    </a>\n",
    "  </td>\n",
    "</table>"
   ]
  },
  {
   "cell_type": "markdown",
   "metadata": {},
   "source": [
    "| | |\n",
    "|-|-|\n",
    "|Author(s) | [Smitha Venkat](https://github.com/smitha-google), [Kaz Sato](https://github.com/kazunori279)|"
   ]
  },
  {
   "cell_type": "markdown",
   "metadata": {},
   "source": [
    "## Introduction\n",
    "\n",
    "In this tutorial, you learn how to use Google Cloud AI tools to quickly bring the power of Large Language Models to enterprise systems.  \n",
    "\n",
    "This tutorial covers the following -\n",
    "\n",
    "*   What are embeddings - what business challenges do they help solve ?\n",
    "*   Understanding Text with Vertex AI Text Embeddings\n",
    "*   Find Embeddings fast with Vertex AI Vector Search\n",
    "*   Grounding LLM outputs with Vector Search\n",
    "\n",
    "This tutorial is based on [the blog post](https://cloud.google.com/blog/products/ai-machine-learning/how-to-use-grounding-for-your-llms-with-text-embeddings), combined with sample code.\n",
    "\n",
    "\n",
    "### Prerequisites\n",
    "\n",
    "This tutorial is designed for developers who has basic knowledge and experience with Python programming and machine learning.\n",
    "\n",
    "If you are not reading this tutorial in Qwiklab, then you need to have a Google Cloud project that is linked to a billing account to run this. Please go through [this document](https://cloud.google.com/vertex-ai/docs/start/cloud-environment) to create a project and setup a billing account for it.\n",
    "\n",
    "### Choose the runtime environment\n",
    "\n",
    "The notebook can be run on either Google Colab or [Vertex AI Workbench](https://cloud.google.com/vertex-ai-workbench).\n",
    "\n",
    "- To use Colab: Click [this link](https://colab.research.google.com/github/GoogleCloudPlatform/generative-ai/blob/main/embeddings/intro-textemb-vectorsearch.ipynb) to open the tutorial in Colab.\n",
    "\n",
    "- To use Workbench: If it is the first time to use Workbench in your Google Cloud project, open [the Workbench console](https://console.cloud.google.com/vertex-ai/workbench) and click ENABLE button to enable Notebooks API. Then click [this link](https://console.cloud.google.com/vertex-ai/workbench/deploy-notebook?download_url=https://raw.githubusercontent.com/GoogleCloudPlatform/generative-ai/main/embeddings/intro-textemb-vectorsearch.ipynb),  and select an existing notebook or create a new notebook.\n"
   ]
  },
  {
   "cell_type": "markdown",
   "metadata": {
    "id": "2pImjuenUIQz"
   },
   "source": [
    "### How much will this cost?\n",
    "\n",
    "In case you are using your own Cloud project, not a temporary project on Qwiklab, you need to spend roughly a few US dollars to finish this tutorial.\n",
    "\n",
    "The pricing of the Cloud services we will use in this tutorial are avilable in the following pages:\n",
    "\n",
    "- [Vertex AI Embeddings for Text](https://cloud.google.com/vertex-ai/pricing#generative_ai_models)\n",
    "- [Vertex AI Vector Search](https://cloud.google.com/vertex-ai/pricing#matchingengine)\n",
    "- [BigQuery](https://cloud.google.com/bigquery/pricing)\n",
    "- [Cloud Storage](https://cloud.google.com/storage/pricing)\n",
    "- [Vertex AI Workbench](https://cloud.google.com/vertex-ai/pricing#notebooks) if you use one\n",
    "\n",
    "You can use the [Pricing Calculator](https://cloud.google.com/products/calculator) to generate a cost estimate based on your projected usage. The following is an example of rough cost estimation with the calculator, assuming you will go through this tutorial a couple of time.\n",
    "\n",
    "<img src=\"https://storage.googleapis.com/github-repo/img/embeddings/vs-quickstart/pricing.png\" width=\"50%\"/>\n",
    "\n",
    "### **Warning: delete your objects after the tutorial**\n",
    "\n",
    "In case you are using your own Cloud project, please make sure to delete all the Indexes, Index Endpoints and Cloud Storage buckets (and the Workbench instance if you use one) after finishing this tutorial. Otherwise the remaining assets would incur unexpected costs.\n"
   ]
  },
  {
   "cell_type": "markdown",
   "metadata": {
    "id": "6Fu2OoUDTQ6w"
   },
   "source": [
    "# Bringing Gen AI and LLMs to production services\n",
    "\n",
    "Many people are now starting to think about how to bring Gen AI and LLMs to production services, and facing with several challenges.\n",
    "\n",
    "- \"How to integrate LLMs or AI chatbots with existing IT systems, databases and business data?\"\n",
    "- \"We have thousands of products. How can I let LLM memorize them all precisely?\"\n",
    "- \"How to handle the hallucination issues in AI chatbots to build a reliable service?\"\n",
    "\n",
    "Here is a quick solution: **grounding** with **embeddings** and **vector search**.\n",
    "\n",
    "What is grounding? What are embedding and vector search? In this tutorial, we will learn these crucial concepts to build reliable Gen AI services for enterprise use. But before we dive deeper, let's try the demo below."
   ]
  },
  {
   "cell_type": "markdown",
   "metadata": {
    "id": "ORqZYLgTm9pJ"
   },
   "source": [
    "![](https://storage.googleapis.com/gweb-cloudblog-publish/original_images/1._demo_animation.gif)\n",
    "\n",
    "**Exercise: Try the Stack Overflow semantic search demo:**\n",
    "\n",
    "This demo is available as a [public live demo](https://ai-demos.dev/). Select \"STACKOVERFLOW\" and enter any coding question as a query, so it runs a text search on **8 million** questions posted on [Stack Overflow](https://stackoverflow.com/). Try the text semantic search with some queries like 'How to shuffle rows in SQL?' or arbitrary programming questions.\n",
    "\n",
    "In this tutorial, we are going to see how to build a similar search experience - what is involved in building solutions like this using Vertex AI Embeddings API and Vector Search."
   ]
  },
  {
   "cell_type": "markdown",
   "metadata": {
    "id": "H1MAIOkCw35V"
   },
   "source": [
    "# What is Embeddings?\n",
    "\n",
    "With the rise of LLMs, why is it becoming important for IT engineers and ITDMs to understand how they work?\n",
    "\n",
    "In traditional IT systems, most data is organized as structured or tabular data, using simple keywords, labels, and categories in databases and search engines.\n",
    "\n",
    "![](https://storage.googleapis.com/github-repo/img/embeddings/textemb-vs-notebook/1.png)\n",
    "\n",
    "In contrast, AI-powered services arrange data into a simple data structure known as \"embeddings.\"\n",
    "\n",
    "![](https://storage.googleapis.com/github-repo/img/embeddings/textemb-vs-notebook/2.png)"
   ]
  },
  {
   "cell_type": "markdown",
   "metadata": {
    "id": "hJqjBmQsxz2Z"
   },
   "source": [
    "Once trained with specific content like text, images, or any content, AI creates a space called \"embedding space\", which is essentially a map of the content's meaning.\n",
    "\n",
    "![](https://storage.googleapis.com/github-repo/img/embeddings/textemb-vs-notebook/3.png)\n",
    "\n",
    "AI can identify the location of each content on the map, that's what embedding is.\n",
    "\n",
    "![](https://storage.googleapis.com/github-repo/img/embeddings/textemb-vs-notebook/4.png)\n",
    "\n",
    "Let's take an example where a text discusses movies, music, and actors, with a distribution of 10%, 2%, and 30%, respectively. In this case, the AI can create an embedding with three values: 0.1, 0.02, and 0.3, in 3 dimensional space.\n",
    "\n",
    "![](https://storage.googleapis.com/github-repo/img/embeddings/textemb-vs-notebook/5.png)\n",
    "\n",
    "AI can put content with similar meanings closely together in the space."
   ]
  },
  {
   "cell_type": "markdown",
   "metadata": {
    "id": "A5z7vyTyzk_4"
   },
   "source": [
    "This is how Google organizes data across various services like Google Search, YouTube, Play, and many others, to provide search results and recommendations with relevant content.\n",
    "\n",
    "Embeddings can also be used to represent different types of things in businesses, such as products, users, user activities, conversations, music & videos, signals from IoT sensors, and so on."
   ]
  },
  {
   "cell_type": "markdown",
   "metadata": {
    "id": "tpKVmyEe0ab9"
   },
   "source": [
    "AI and Embeddings are now playing a crucial role in creating a new way of human-computer interaction.\n",
    "\n",
    "![](https://storage.googleapis.com/github-repo/img/embeddings/textemb-vs-notebook/6.png)\n",
    "\n",
    "AI organizes data into embeddings, which represent what the user is looking for, the meaning of contents, or many other things you have in your business. This creates a new level of user experience that is becoming the new standard.\n",
    "\n",
    "To learn more about embeddings, [Foundational courses: Embeddings on Google Machine Learning Crush Course](https://developers.google.com/machine-learning/crash-course/embeddings/video-lecture) and [Meet AI’s multitool: Vector embeddings by Dale Markowitz](https://cloud.google.com/blog/topics/developers-practitioners/meet-ais-multitool-vector-embeddings) are great materials.\n",
    "\n"
   ]
  },
  {
   "cell_type": "markdown",
   "metadata": {
    "id": "ovQpiL2GUEXa"
   },
   "source": [
    "# Vertex AI Embeddings for Text\n",
    "\n",
    "With the [Vertex AI Embeddings for Text](https://cloud.google.com/vertex-ai/docs/generative-ai/embeddings/get-text-embeddings), you can easily create a text embedding with LLM. The product is also available on [Vertex AI Model Garden](https://cloud.google.com/model-garden)\n",
    "\n",
    "![](https://storage.googleapis.com/github-repo/img/embeddings/textemb-vs-notebook/7.png)\n",
    "\n",
    "This API is designed to extract embeddings from texts. It can take text input up to 3,072 input tokens, and outputs 768 dimensional text embeddings."
   ]
  },
  {
   "cell_type": "markdown",
   "metadata": {
    "id": "nwJHDPG7lU52"
   },
   "source": [
    "## LLM text embedding business use cases\n",
    "\n",
    "With the embedding API, you can apply the innovation of embeddings, combined with the LLM capability, to various text processing tasks, such as:\n",
    "\n",
    "**LLM-enabled Semantic Search**: text embeddings can be used to represent both the meaning and intent of a user's query and documents in the embedding space. Documents that have similar meaning to the user's query intent will be found fast with vector search technology. The model is capable of generating text embeddings that capture the subtle nuances of each sentence and paragraphs in the document.\n",
    "\n",
    "**LLM-enabled Text Classification**: LLM text embeddings can be used for text classification with a deep understanding of different contexts without any training or fine-tuning (so-called zero-shot learning). This wasn't possible with the past language models without task-specific training.\n",
    "\n",
    "**LLM-enabled Recommendation**: The text embedding can be used for recommendation systems as a strong feature for training recommendation models such as Two-Tower model. The model learns the relationship between the query and candidate embeddings, resulting in next-gen user experience with semantic product recommendation.\n",
    "\n",
    "LLM-enabled Clustering, Anomaly Detection, Sentiment Analysis, and more, can be also handled with the LLM-level deep semantics understanding.\n",
    "\n",
    "\n"
   ]
  },
  {
   "cell_type": "markdown",
   "metadata": {
    "id": "ga5A7koYlvlZ"
   },
   "source": [
    "## Sorting 8 million texts at \"librarian-level\" precision\n",
    "\n",
    "Vertex AI Embeddings for Text has an embedding space with 768 dimensions. As explained earlier, the space represents a huge map of a wide variety of texts in the world, organized by their meanings. With each input text, the model can find a location (embedding) in the map.\n",
    "\n",
    "By visualizing the embedding space, you can actually observe how the model sorts the texts at the \"librarian-level\" precision.\n",
    "\n",
    "**Exercise: Try the Nomic AI Atlas**\n",
    "\n",
    "[Nomic AI](http://nomic.ai/) provides a platform called Atlas for storing, visualizing and interacting with embedding spaces with high scalability and in a smooth UI, and they worked with Google for visualizing the embedding space of the 8 million Stack Overflow questions. You can try exploring around the space, zooming in and out to each data point on your browser on this page, courtesy of Nomic AI.\n",
    "\n",
    "The embedding space represents a huge map of texts, organized by their meanings\n",
    "With each input text, the model can find a location (embedding) in the map\n",
    "Like a librarian reading through millions of texts, sorting them with millions of nano-categories\n",
    "\n",
    "Try exploring it [here](https://atlas.nomic.ai/map/edaff028-12b5-42a0-8e8b-6430c9b8222b/bcb42818-3581-4fb5-ac30-9883d01f98ec). Zoom into a few categories, point each dots, and see how the LLM is sorting similar questions close together in the space.\n",
    "\n",
    "![](https://storage.googleapis.com/gweb-cloudblog-publish/images/4._Nomic_AI_Atlas.max-2200x2200.png)\n",
    "\n",
    "### The librarian-level semantic understanding\n",
    "\n",
    "Here are the examples of the librarian-level semantic understanding by Embeddings API with Stack Overflow questions.\n",
    "\n",
    "![](https://storage.googleapis.com/gweb-cloudblog-publish/images/5._semantic_understanding.max-2200x2200.png)\n",
    "\n",
    "For example, the model thinks the question “Does moving the request line to a header frame require an app change?” is similar to the question “Does an application developed on HTTP1x require modifications to run on HTTP2?”. That is because The model knows both questions talk about what's the change required to support the HTTP2 header frame.\n",
    "\n",
    "Note that this demo didn't require any training or fine-tuning with computer programming specific datasets. This is the innovative part of the zero-shot learning capability of the LLM. It can be applied to a wide variety of industries, including finance, healthcare, retail, manufacturing, construction, media, and more, for deep semantic search on the industry-focused business documents without spending time and cost for collecting industry specific datasets and training models."
   ]
  },
  {
   "cell_type": "markdown",
   "metadata": {
    "id": "-iOWOKnIvYxf"
   },
   "source": [
    "# Text Embeddings in Action\n",
    "\n",
    "Lets try using Text Embeddings in action with actual sample code."
   ]
  },
  {
   "cell_type": "markdown",
   "metadata": {
    "id": "AtXnXhF8U-8R"
   },
   "source": [
    "## Setup\n",
    "\n",
    "Before get started with the Vertex AI services, we need to setup the following.\n",
    "\n",
    "* Install Python SDK\n",
    "* Environment variables\n",
    "* Authentication (Colab only)\n",
    "* Enable APIs\n",
    "* Set IAM permissions"
   ]
  },
  {
   "cell_type": "markdown",
   "metadata": {
    "id": "UjnvWl6FLUlF"
   },
   "source": [
    "### Install Python SDK\n",
    "\n",
    "Vertex AI, Cloud Storage and BigQuery APIs can be accessed with multiple ways including REST API and Python SDK. In this tutorial we will use the SDK."
   ]
  },
  {
   "cell_type": "code",
   "execution_count": 1,
   "metadata": {
    "id": "FZgLGALt_al7",
    "tags": []
   },
   "outputs": [
    {
     "name": "stdout",
     "output_type": "stream",
     "text": [
      "Requirement already satisfied: google-cloud-aiplatform in /opt/conda/lib/python3.10/site-packages (1.39.0)\n",
      "Collecting google-cloud-aiplatform\n",
      "  Downloading google_cloud_aiplatform-1.40.0-py2.py3-none-any.whl.metadata (27 kB)\n",
      "Requirement already satisfied: google-cloud-storage in /opt/conda/lib/python3.10/site-packages (2.14.0)\n",
      "Requirement already satisfied: google-cloud-bigquery[pandas] in /opt/conda/lib/python3.10/site-packages (3.15.0)\n",
      "Collecting google-cloud-bigquery[pandas]\n",
      "  Downloading google_cloud_bigquery-3.17.1-py2.py3-none-any.whl.metadata (8.8 kB)\n",
      "Requirement already satisfied: google-api-core!=2.0.*,!=2.1.*,!=2.2.*,!=2.3.*,!=2.4.*,!=2.5.*,!=2.6.*,!=2.7.*,<3.0.0dev,>=1.32.0 in /opt/conda/lib/python3.10/site-packages (from google-api-core[grpc]!=2.0.*,!=2.1.*,!=2.2.*,!=2.3.*,!=2.4.*,!=2.5.*,!=2.6.*,!=2.7.*,<3.0.0dev,>=1.32.0->google-cloud-aiplatform) (1.34.0)\n",
      "Requirement already satisfied: proto-plus<2.0.0dev,>=1.22.0 in /opt/conda/lib/python3.10/site-packages (from google-cloud-aiplatform) (1.23.0)\n",
      "Requirement already satisfied: protobuf!=3.20.0,!=3.20.1,!=4.21.0,!=4.21.1,!=4.21.2,!=4.21.3,!=4.21.4,!=4.21.5,<5.0.0dev,>=3.19.5 in /opt/conda/lib/python3.10/site-packages (from google-cloud-aiplatform) (3.20.3)\n",
      "Requirement already satisfied: packaging>=14.3 in /opt/conda/lib/python3.10/site-packages (from google-cloud-aiplatform) (23.2)\n",
      "Requirement already satisfied: google-cloud-resource-manager<3.0.0dev,>=1.3.3 in /opt/conda/lib/python3.10/site-packages (from google-cloud-aiplatform) (1.11.0)\n",
      "Requirement already satisfied: shapely<3.0.0dev in /opt/conda/lib/python3.10/site-packages (from google-cloud-aiplatform) (2.0.2)\n",
      "Requirement already satisfied: google-auth<3.0dev,>=2.23.3 in /opt/conda/lib/python3.10/site-packages (from google-cloud-storage) (2.26.2)\n",
      "Requirement already satisfied: google-cloud-core<3.0dev,>=2.3.0 in /opt/conda/lib/python3.10/site-packages (from google-cloud-storage) (2.4.1)\n",
      "Requirement already satisfied: google-resumable-media>=2.6.0 in /opt/conda/lib/python3.10/site-packages (from google-cloud-storage) (2.7.0)\n",
      "Requirement already satisfied: requests<3.0.0dev,>=2.18.0 in /opt/conda/lib/python3.10/site-packages (from google-cloud-storage) (2.31.0)\n",
      "Requirement already satisfied: google-crc32c<2.0dev,>=1.0 in /opt/conda/lib/python3.10/site-packages (from google-cloud-storage) (1.5.0)\n",
      "Requirement already satisfied: python-dateutil<3.0dev,>=2.7.2 in /opt/conda/lib/python3.10/site-packages (from google-cloud-bigquery[pandas]) (2.8.2)\n",
      "Requirement already satisfied: pandas>=1.1.0 in /opt/conda/lib/python3.10/site-packages (from google-cloud-bigquery[pandas]) (2.1.4)\n",
      "Requirement already satisfied: pyarrow>=3.0.0 in /opt/conda/lib/python3.10/site-packages (from google-cloud-bigquery[pandas]) (14.0.2)\n",
      "Requirement already satisfied: db-dtypes<2.0.0dev,>=0.3.0 in /opt/conda/lib/python3.10/site-packages (from google-cloud-bigquery[pandas]) (1.2.0)\n",
      "Requirement already satisfied: numpy>=1.16.6 in /opt/conda/lib/python3.10/site-packages (from db-dtypes<2.0.0dev,>=0.3.0->google-cloud-bigquery[pandas]) (1.25.2)\n",
      "Requirement already satisfied: googleapis-common-protos<2.0dev,>=1.56.2 in /opt/conda/lib/python3.10/site-packages (from google-api-core!=2.0.*,!=2.1.*,!=2.2.*,!=2.3.*,!=2.4.*,!=2.5.*,!=2.6.*,!=2.7.*,<3.0.0dev,>=1.32.0->google-api-core[grpc]!=2.0.*,!=2.1.*,!=2.2.*,!=2.3.*,!=2.4.*,!=2.5.*,!=2.6.*,!=2.7.*,<3.0.0dev,>=1.32.0->google-cloud-aiplatform) (1.62.0)\n",
      "Requirement already satisfied: grpcio<2.0dev,>=1.33.2 in /opt/conda/lib/python3.10/site-packages (from google-api-core[grpc]!=2.0.*,!=2.1.*,!=2.2.*,!=2.3.*,!=2.4.*,!=2.5.*,!=2.6.*,!=2.7.*,<3.0.0dev,>=1.32.0->google-cloud-aiplatform) (1.60.0)\n",
      "Requirement already satisfied: grpcio-status<2.0dev,>=1.33.2 in /opt/conda/lib/python3.10/site-packages (from google-api-core[grpc]!=2.0.*,!=2.1.*,!=2.2.*,!=2.3.*,!=2.4.*,!=2.5.*,!=2.6.*,!=2.7.*,<3.0.0dev,>=1.32.0->google-cloud-aiplatform) (1.48.2)\n",
      "Requirement already satisfied: cachetools<6.0,>=2.0.0 in /opt/conda/lib/python3.10/site-packages (from google-auth<3.0dev,>=2.23.3->google-cloud-storage) (5.3.2)\n",
      "Requirement already satisfied: pyasn1-modules>=0.2.1 in /opt/conda/lib/python3.10/site-packages (from google-auth<3.0dev,>=2.23.3->google-cloud-storage) (0.3.0)\n",
      "Requirement already satisfied: rsa<5,>=3.1.4 in /opt/conda/lib/python3.10/site-packages (from google-auth<3.0dev,>=2.23.3->google-cloud-storage) (4.9)\n",
      "Requirement already satisfied: grpc-google-iam-v1<1.0.0dev,>=0.12.4 in /opt/conda/lib/python3.10/site-packages (from google-cloud-resource-manager<3.0.0dev,>=1.3.3->google-cloud-aiplatform) (0.13.0)\n",
      "Requirement already satisfied: pytz>=2020.1 in /opt/conda/lib/python3.10/site-packages (from pandas>=1.1.0->google-cloud-bigquery[pandas]) (2023.3.post1)\n",
      "Requirement already satisfied: tzdata>=2022.1 in /opt/conda/lib/python3.10/site-packages (from pandas>=1.1.0->google-cloud-bigquery[pandas]) (2023.4)\n",
      "Requirement already satisfied: six>=1.5 in /opt/conda/lib/python3.10/site-packages (from python-dateutil<3.0dev,>=2.7.2->google-cloud-bigquery[pandas]) (1.16.0)\n",
      "Requirement already satisfied: charset-normalizer<4,>=2 in /opt/conda/lib/python3.10/site-packages (from requests<3.0.0dev,>=2.18.0->google-cloud-storage) (3.3.2)\n",
      "Requirement already satisfied: idna<4,>=2.5 in /opt/conda/lib/python3.10/site-packages (from requests<3.0.0dev,>=2.18.0->google-cloud-storage) (3.6)\n",
      "Requirement already satisfied: urllib3<3,>=1.21.1 in /opt/conda/lib/python3.10/site-packages (from requests<3.0.0dev,>=2.18.0->google-cloud-storage) (1.26.18)\n",
      "Requirement already satisfied: certifi>=2017.4.17 in /opt/conda/lib/python3.10/site-packages (from requests<3.0.0dev,>=2.18.0->google-cloud-storage) (2023.11.17)\n",
      "Requirement already satisfied: pyasn1<0.6.0,>=0.4.6 in /opt/conda/lib/python3.10/site-packages (from pyasn1-modules>=0.2.1->google-auth<3.0dev,>=2.23.3->google-cloud-storage) (0.5.1)\n",
      "Downloading google_cloud_aiplatform-1.40.0-py2.py3-none-any.whl (3.4 MB)\n",
      "\u001b[2K   \u001b[90m━━━━━━━━━━━━━━━━━━━━━━━━━━━━━━━━━━━━━━━━\u001b[0m \u001b[32m3.4/3.4 MB\u001b[0m \u001b[31m13.6 MB/s\u001b[0m eta \u001b[36m0:00:00\u001b[0m00:01\u001b[0m00:01\u001b[0m\n",
      "\u001b[?25hDownloading google_cloud_bigquery-3.17.1-py2.py3-none-any.whl (230 kB)\n",
      "\u001b[2K   \u001b[90m━━━━━━━━━━━━━━━━━━━━━━━━━━━━━━━━━━━━━━━━\u001b[0m \u001b[32m230.2/230.2 kB\u001b[0m \u001b[31m23.4 MB/s\u001b[0m eta \u001b[36m0:00:00\u001b[0m\n",
      "\u001b[?25hInstalling collected packages: google-cloud-bigquery, google-cloud-aiplatform\n",
      "\u001b[33m  WARNING: The script tb-gcp-uploader is installed in '/home/jupyter/.local/bin' which is not on PATH.\n",
      "  Consider adding this directory to PATH or, if you prefer to suppress this warning, use --no-warn-script-location.\u001b[0m\u001b[33m\n",
      "\u001b[0mSuccessfully installed google-cloud-aiplatform-1.40.0 google-cloud-bigquery-3.17.1\n"
     ]
    }
   ],
   "source": [
    "!pip install --upgrade --user google-cloud-aiplatform google-cloud-storage 'google-cloud-bigquery[pandas]'"
   ]
  },
  {
   "cell_type": "markdown",
   "metadata": {
    "id": "R5Xep4W9lq-Z"
   },
   "source": [
    "### Restart current runtime\n",
    "\n",
    "To use the newly installed packages in this Jupyter runtime, you must restart the runtime. You can do this by running the cell below, which will restart the current kernel."
   ]
  },
  {
   "cell_type": "code",
   "execution_count": 2,
   "metadata": {
    "colab": {
     "base_uri": "https://localhost:8080/"
    },
    "id": "XRvKdaPDTznN",
    "outputId": "154a71b5-f302-4f53-ed2f-b3e5fef9195b",
    "tags": []
   },
   "outputs": [
    {
     "data": {
      "text/plain": [
       "{'status': 'ok', 'restart': True}"
      ]
     },
     "execution_count": 2,
     "metadata": {},
     "output_type": "execute_result"
    }
   ],
   "source": [
    "# Restart kernel after installs so that your environment can access the new packages\n",
    "import IPython\n",
    "import time\n",
    "\n",
    "app = IPython.Application.instance()\n",
    "app.kernel.do_shutdown(True)"
   ]
  },
  {
   "cell_type": "markdown",
   "metadata": {
    "id": "SbmM4z7FOBpM"
   },
   "source": [
    "<div class=\"alert alert-block alert-warning\">\n",
    "<b>⚠️ The kernel is going to restart. Please wait until it is finished before continuing to the next step. ⚠️</b>\n",
    "</div>\n",
    "\n"
   ]
  },
  {
   "cell_type": "markdown",
   "metadata": {
    "id": "nCoTvkOJoh76"
   },
   "source": [
    "### Environment variables\n",
    "\n",
    "Sets environment variables. If asked, please replace the following `[your-project-id]` with your project ID and run it."
   ]
  },
  {
   "cell_type": "code",
   "execution_count": 2,
   "metadata": {
    "id": "fkmvFRrj3nQI",
    "tags": []
   },
   "outputs": [],
   "source": [
    "# get project ID\n",
    "PROJECT_ID = ! gcloud config get project\n",
    "PROJECT_ID = PROJECT_ID[0]\n",
    "LOCATION = \"us-central1\"\n",
    "if PROJECT_ID == \"(unset)\":\n",
    "    print(f\"Please set the project ID manually below\")"
   ]
  },
  {
   "cell_type": "code",
   "execution_count": 3,
   "metadata": {
    "id": "69XJ95rNoYG9",
    "tags": []
   },
   "outputs": [],
   "source": [
    "# define project information\n",
    "if PROJECT_ID == \"(unset)\":\n",
    "    PROJECT_ID = \"qwiklabs-gcp-00-97154ecf82e3\"  # @param {type:\"string\"}\n",
    "\n",
    "# generate an unique id for this session\n",
    "from datetime import datetime\n",
    "\n",
    "UID = datetime.now().strftime(\"%m%d%H%M\")"
   ]
  },
  {
   "cell_type": "markdown",
   "metadata": {
    "id": "ph7mDSMRVTIZ"
   },
   "source": [
    "### Authentication (Colab only)\n",
    "\n",
    "If you are running this notebook on Colab, you will need to run the following cell authentication. This step is not required if you are using Vertex AI Workbench as it is pre-authenticated."
   ]
  },
  {
   "cell_type": "code",
   "execution_count": 4,
   "metadata": {
    "id": "5jQkFtlimNXR",
    "tags": []
   },
   "outputs": [],
   "source": [
    "import sys\n",
    "\n",
    "# if it's Colab runtime, authenticate the user with Google Cloud\n",
    "if \"google.colab\" in sys.modules:\n",
    "    from google.colab import auth\n",
    "\n",
    "    auth.authenticate_user()"
   ]
  },
  {
   "cell_type": "markdown",
   "metadata": {
    "id": "jUPbl4IFLmC2"
   },
   "source": [
    "### Enable APIs\n",
    "\n",
    "Run the following to enable APIs for Compute Engine, Vertex AI, Cloud Storage and BigQuery with this Google Cloud project."
   ]
  },
  {
   "cell_type": "code",
   "execution_count": 5,
   "metadata": {
    "id": "qGf0qMMQNond",
    "tags": []
   },
   "outputs": [
    {
     "name": "stdout",
     "output_type": "stream",
     "text": [
      "Operation \"operations/acat.p2-266070063965-86a9b911-c372-4c27-96b7-8811d16f1957\" finished successfully.\n"
     ]
    }
   ],
   "source": [
    "! gcloud services enable compute.googleapis.com aiplatform.googleapis.com storage.googleapis.com bigquery.googleapis.com --project {PROJECT_ID}"
   ]
  },
  {
   "cell_type": "markdown",
   "metadata": {
    "id": "8cF8rkN3Lnhq"
   },
   "source": [
    "### Set IAM permissions\n",
    "\n",
    "Also, we need to add access permissions to the default service account for using those services.\n",
    "\n",
    "- Go to [the IAM page](https://console.cloud.google.com/iam-admin/) in the Console\n",
    "- Look for the principal for default compute service account. It should look like: `<project-number>-compute@developer.gserviceaccount.com`\n",
    "- Click the edit button at right and click `ADD ANOTHER ROLE` to add `Vertex AI User`, `BigQuery User` and `Storage Admin` to the account.\n",
    "\n",
    "This will look like this:\n",
    "\n",
    "![](https://storage.googleapis.com/github-repo/img/embeddings/vs-quickstart/iam-setting.png)"
   ]
  },
  {
   "cell_type": "markdown",
   "metadata": {
    "id": "mahCxLXHMIls"
   },
   "source": [
    "## Getting Started with Vertex AI Embeddings for Text\n",
    "\n",
    "Now it's ready to get started with embeddings!"
   ]
  },
  {
   "cell_type": "markdown",
   "metadata": {
    "id": "rq07_-o0VoZD"
   },
   "source": [
    "### Data Preparation\n",
    "\n",
    "We will be using [the Stack Overflow public dataset](https://console.cloud.google.com/marketplace/product/stack-exchange/stack-overflow) hosted on BigQuery table `bigquery-public-data.stackoverflow.posts_questions`. This is a very big dataset with 23 million rows that doesn't fit into the memory. We are going to limit it to 1000 rows for this tutorial."
   ]
  },
  {
   "cell_type": "code",
   "execution_count": 6,
   "metadata": {
    "id": "snrzPsEQDH4S",
    "tags": []
   },
   "outputs": [
    {
     "data": {
      "text/html": [
       "<div>\n",
       "<style scoped>\n",
       "    .dataframe tbody tr th:only-of-type {\n",
       "        vertical-align: middle;\n",
       "    }\n",
       "\n",
       "    .dataframe tbody tr th {\n",
       "        vertical-align: top;\n",
       "    }\n",
       "\n",
       "    .dataframe thead th {\n",
       "        text-align: right;\n",
       "    }\n",
       "</style>\n",
       "<table border=\"1\" class=\"dataframe\">\n",
       "  <thead>\n",
       "    <tr style=\"text-align: right;\">\n",
       "      <th></th>\n",
       "      <th>id</th>\n",
       "      <th>title</th>\n",
       "    </tr>\n",
       "  </thead>\n",
       "  <tbody>\n",
       "    <tr>\n",
       "      <th>0</th>\n",
       "      <td>73276629</td>\n",
       "      <td>How to preload library with ld_preload to wine...</td>\n",
       "    </tr>\n",
       "    <tr>\n",
       "      <th>1</th>\n",
       "      <td>73457355</td>\n",
       "      <td>Adding user state to auth tokens vuex</td>\n",
       "    </tr>\n",
       "    <tr>\n",
       "      <th>2</th>\n",
       "      <td>73408082</td>\n",
       "      <td>Cordova splashscreen is restricted to a small ...</td>\n",
       "    </tr>\n",
       "    <tr>\n",
       "      <th>3</th>\n",
       "      <td>73387295</td>\n",
       "      <td>How do I use templates with plain java blocks ...</td>\n",
       "    </tr>\n",
       "    <tr>\n",
       "      <th>4</th>\n",
       "      <td>73324297</td>\n",
       "      <td>Elastic search with mysql nodejs</td>\n",
       "    </tr>\n",
       "  </tbody>\n",
       "</table>\n",
       "</div>"
      ],
      "text/plain": [
       "         id                                              title\n",
       "0  73276629  How to preload library with ld_preload to wine...\n",
       "1  73457355              Adding user state to auth tokens vuex\n",
       "2  73408082  Cordova splashscreen is restricted to a small ...\n",
       "3  73387295  How do I use templates with plain java blocks ...\n",
       "4  73324297                   Elastic search with mysql nodejs"
      ]
     },
     "execution_count": 6,
     "metadata": {},
     "output_type": "execute_result"
    }
   ],
   "source": [
    "# load the BQ Table into a Pandas Dataframe\n",
    "import pandas as pd\n",
    "from google.cloud import bigquery\n",
    "\n",
    "QUESTIONS_SIZE = 1000\n",
    "\n",
    "bq_client = bigquery.Client(project=PROJECT_ID)\n",
    "QUERY_TEMPLATE = \"\"\"\n",
    "        SELECT distinct q.id, q.title\n",
    "        FROM (SELECT * FROM `bigquery-public-data.stackoverflow.posts_questions`\n",
    "        where Score > 0 ORDER BY View_Count desc) AS q\n",
    "        LIMIT {limit} ;\n",
    "        \"\"\"\n",
    "query = QUERY_TEMPLATE.format(limit=QUESTIONS_SIZE)\n",
    "query_job = bq_client.query(query)\n",
    "rows = query_job.result()\n",
    "df = rows.to_dataframe()\n",
    "\n",
    "# examine the data\n",
    "df.head()"
   ]
  },
  {
   "cell_type": "markdown",
   "metadata": {
    "id": "j6022U1FWzpb"
   },
   "source": [
    "### Call the API to generate embeddings\n",
    "\n",
    "With the Stack Overflow dataset, we will use the `title` column (the question title) and generate embedding for it with Embeddings for Text API. The API is available under the [vertexai](https://cloud.google.com/python/docs/reference/aiplatform/latest/vertexai) package of the SDK.\n",
    "\n",
    "You may see some warning messages from the TensorFlow library but you can ignore them."
   ]
  },
  {
   "cell_type": "code",
   "execution_count": 7,
   "metadata": {
    "id": "pY8M4DqO8wGx",
    "tags": []
   },
   "outputs": [],
   "source": [
    "# init the vertexai package\n",
    "import vertexai\n",
    "\n",
    "vertexai.init(project=PROJECT_ID, location=LOCATION)"
   ]
  },
  {
   "cell_type": "markdown",
   "metadata": {
    "id": "jrG82n-y-EC5"
   },
   "source": [
    "From the package, import [TextEmbeddingModel](https://cloud.google.com/python/docs/reference/aiplatform/latest/vertexai.language_models.TextEmbeddingModel) and get a model."
   ]
  },
  {
   "cell_type": "code",
   "execution_count": 8,
   "metadata": {
    "id": "YVLHjSeOGoTu",
    "tags": []
   },
   "outputs": [],
   "source": [
    "# Load the text embeddings model\n",
    "from vertexai.preview.language_models import TextEmbeddingModel\n",
    "\n",
    "model = TextEmbeddingModel.from_pretrained(\"textembedding-gecko@001\")"
   ]
  },
  {
   "cell_type": "markdown",
   "metadata": {
    "id": "FqdVsgZDb_hc"
   },
   "source": [
    "In this tutorial we will use `textembedding-gecko@001` model for getting text embeddings. Please take a look at [Supported models](https://cloud.google.com/vertex-ai/docs/generative-ai/embeddings/get-text-embeddings#supported_models) on the doc to see the list of supported models.\n",
    "\n",
    "Once you get the model, you can call its [get_embeddings](https://cloud.google.com/python/docs/reference/aiplatform/latest/vertexai.language_models.TextEmbeddingModel#vertexai_language_models_TextEmbeddingModel_get_embeddings) function to get embeddings. You can pass up to 5 texts at once in a call. But there is a caveat. By default, the text embeddings API has a \"request per minute\" quota set to 60 for new Cloud projects and 600 for projects with usage history (see [Quotas and limits](https://cloud.google.com/vertex-ai/docs/quotas#request_quotas) to check the latest quota value for `base_model:textembedding-gecko`). So, rather than using the function directly, you may want to define a wrapper like below to limit under 10 calls per second, and pass 5 texts each time."
   ]
  },
  {
   "cell_type": "code",
   "execution_count": 9,
   "metadata": {
    "id": "8HUb9u_P2VWW",
    "tags": []
   },
   "outputs": [],
   "source": [
    "import time\n",
    "import tqdm  # to show a progress bar\n",
    "\n",
    "# get embeddings for a list of texts\n",
    "BATCH_SIZE = 5\n",
    "\n",
    "\n",
    "def get_embeddings_wrapper(texts):\n",
    "    embs = []\n",
    "    for i in tqdm.tqdm(range(0, len(texts), BATCH_SIZE)):\n",
    "        time.sleep(1)  # to avoid the quota error\n",
    "        result = model.get_embeddings(texts[i : i + BATCH_SIZE])\n",
    "        embs = embs + [e.values for e in result]\n",
    "    return embs"
   ]
  },
  {
   "cell_type": "markdown",
   "metadata": {
    "id": "aK4eTSPfcEuh"
   },
   "source": [
    "The following code will get embedding for the question titles and add them as a new column `embedding` to the DataFrame. This will take a few minutes."
   ]
  },
  {
   "cell_type": "code",
   "execution_count": 10,
   "metadata": {
    "id": "FcqPvu4PluN1",
    "tags": []
   },
   "outputs": [
    {
     "name": "stderr",
     "output_type": "stream",
     "text": [
      "100%|██████████| 200/200 [03:41<00:00,  1.11s/it]\n"
     ]
    },
    {
     "data": {
      "text/html": [
       "<div>\n",
       "<style scoped>\n",
       "    .dataframe tbody tr th:only-of-type {\n",
       "        vertical-align: middle;\n",
       "    }\n",
       "\n",
       "    .dataframe tbody tr th {\n",
       "        vertical-align: top;\n",
       "    }\n",
       "\n",
       "    .dataframe thead th {\n",
       "        text-align: right;\n",
       "    }\n",
       "</style>\n",
       "<table border=\"1\" class=\"dataframe\">\n",
       "  <thead>\n",
       "    <tr style=\"text-align: right;\">\n",
       "      <th></th>\n",
       "      <th>id</th>\n",
       "      <th>title</th>\n",
       "      <th>embedding</th>\n",
       "    </tr>\n",
       "  </thead>\n",
       "  <tbody>\n",
       "    <tr>\n",
       "      <th>0</th>\n",
       "      <td>73276629</td>\n",
       "      <td>How to preload library with ld_preload to wine...</td>\n",
       "      <td>[0.0041965218260884285, -0.0018191899871453643...</td>\n",
       "    </tr>\n",
       "    <tr>\n",
       "      <th>1</th>\n",
       "      <td>73457355</td>\n",
       "      <td>Adding user state to auth tokens vuex</td>\n",
       "      <td>[-0.02276456728577614, 0.03541654348373413, 0....</td>\n",
       "    </tr>\n",
       "    <tr>\n",
       "      <th>2</th>\n",
       "      <td>73408082</td>\n",
       "      <td>Cordova splashscreen is restricted to a small ...</td>\n",
       "      <td>[0.010246912948787212, -0.0004896668251603842,...</td>\n",
       "    </tr>\n",
       "    <tr>\n",
       "      <th>3</th>\n",
       "      <td>73387295</td>\n",
       "      <td>How do I use templates with plain java blocks ...</td>\n",
       "      <td>[-0.011207730509340763, -0.022028204053640366,...</td>\n",
       "    </tr>\n",
       "    <tr>\n",
       "      <th>4</th>\n",
       "      <td>73324297</td>\n",
       "      <td>Elastic search with mysql nodejs</td>\n",
       "      <td>[-0.014672737568616867, 0.013476642780005932, ...</td>\n",
       "    </tr>\n",
       "  </tbody>\n",
       "</table>\n",
       "</div>"
      ],
      "text/plain": [
       "         id                                              title  \\\n",
       "0  73276629  How to preload library with ld_preload to wine...   \n",
       "1  73457355              Adding user state to auth tokens vuex   \n",
       "2  73408082  Cordova splashscreen is restricted to a small ...   \n",
       "3  73387295  How do I use templates with plain java blocks ...   \n",
       "4  73324297                   Elastic search with mysql nodejs   \n",
       "\n",
       "                                           embedding  \n",
       "0  [0.0041965218260884285, -0.0018191899871453643...  \n",
       "1  [-0.02276456728577614, 0.03541654348373413, 0....  \n",
       "2  [0.010246912948787212, -0.0004896668251603842,...  \n",
       "3  [-0.011207730509340763, -0.022028204053640366,...  \n",
       "4  [-0.014672737568616867, 0.013476642780005932, ...  "
      ]
     },
     "execution_count": 10,
     "metadata": {},
     "output_type": "execute_result"
    }
   ],
   "source": [
    "# get embeddings for the question titles and add them as \"embedding\" column\n",
    "df = df.assign(embedding=get_embeddings_wrapper(list(df.title)))\n",
    "df.head()"
   ]
  },
  {
   "cell_type": "markdown",
   "metadata": {
    "id": "nB53SiJjVN6e"
   },
   "source": [
    "## Look at the embedding similarities\n",
    "\n",
    "Let's see how these embeddings are organized in the embedding space with their meanings by quickly calculating the similarities between them and sorting them.\n",
    "\n",
    "As embeddings are vectors, you can calculate similarity between two embeddings by using one of the popular metrics like the followings:\n",
    "\n",
    "![](https://storage.googleapis.com/github-repo/img/embeddings/textemb-vs-notebook/8.png)\n",
    "\n",
    "Which metric should we use? Usually it depends on how each model is trained. In case of the model `textembedding-gecko@001`, we need to use inner product (dot product).\n",
    "\n",
    "In the following code, it picks up one question randomly and uses the numpy `np.dot` function to calculate the similarities between the question and other questions."
   ]
  },
  {
   "cell_type": "code",
   "execution_count": 11,
   "metadata": {
    "id": "lKs6jSu7NiM6",
    "tags": []
   },
   "outputs": [
    {
     "data": {
      "text/plain": [
       "array([0.50060251, 0.50800743, 0.5601544 , 0.48540422, 0.50939283])"
      ]
     },
     "execution_count": 11,
     "metadata": {},
     "output_type": "execute_result"
    }
   ],
   "source": [
    "import random\n",
    "import numpy as np\n",
    "\n",
    "# pick one of them as a key question\n",
    "key = random.randint(0, len(df))\n",
    "\n",
    "# calc dot product between the key and other questions\n",
    "embs = np.array(df.embedding.to_list())\n",
    "similarities = np.dot(embs[key], embs.T)\n",
    "\n",
    "# print similarities for the first 5 questions\n",
    "similarities[:5]"
   ]
  },
  {
   "cell_type": "markdown",
   "metadata": {
    "id": "srM04lJBQp4w"
   },
   "source": [
    "Finally, sort the questions with the similarities and print the list."
   ]
  },
  {
   "cell_type": "code",
   "execution_count": 12,
   "metadata": {
    "id": "lTUVvj9FQlab",
    "tags": []
   },
   "outputs": [
    {
     "name": "stdout",
     "output_type": "stream",
     "text": [
      "Key question: How to show the dropdown menu out of a row\n",
      "\n",
      "1.0000 How to show the dropdown menu out of a row\n",
      "0.7524 How to create a dropdown menu in flexdashboard?\n",
      "0.6992 Submenus are not showing in angular when using menu-link menu-toggle class from bootstrap 5\n",
      "0.6814 I have an option tag defined under datalist, I have passed value and label to option tag, but its showing both Label + Value in dropdown\n",
      "0.6804 How to convert column to rows\n",
      "0.6769 How do I manage to make my menu-links that pop-out on mobile view take up full height of viewport? I have tried to apply 100vh with no luck\n",
      "0.6761 rselenium iterating dropdown menu\n",
      "0.6744 modify content of ASP.NET @HTML.DropDownListFor dinamically on frontend\n",
      "0.6664 How to get the Selected Data Items from KendoDropDowntree when checkboxes is enabled?\n",
      "0.6652 How to toggle div content when clicking on different navigation links?\n",
      "0.6633 How to get related data from the pivot table?\n",
      "0.6615 Selenium parsing selection from dropdown menu\n",
      "0.6600 How to remove time in datepicker\n",
      "0.6565 Add\\remove row based on value\n",
      "0.6557 Combo Box is only populating one field\n",
      "0.6547 how to open mini tab on left side of main tab?\n",
      "0.6534 how to pass the key as select option value from v-for when changed (VueJS)\n",
      "0.6444 Primeng 13.x tree node not selecting the parent when a child node is selected\n",
      "0.6403 Why doesn't SwiftUI reflect a @State property value in a toolbar Menu?\n",
      "0.6357 DataTables Custom Select Filtering by TR Data Attributes\n"
     ]
    }
   ],
   "source": [
    "# print the question\n",
    "print(f\"Key question: {df.title[key]}\\n\")\n",
    "\n",
    "# sort and print the questions by similarities\n",
    "sorted_questions = sorted(\n",
    "    zip(df.title, similarities), key=lambda x: x[1], reverse=True\n",
    ")[:20]\n",
    "for i, (question, similarity) in enumerate(sorted_questions):\n",
    "    print(f\"{similarity:.4f} {question}\")"
   ]
  },
  {
   "cell_type": "markdown",
   "metadata": {
    "id": "S75SQzAg1wHV"
   },
   "source": [
    "# Find embeddings fast with Vertex AI Vector Search\n",
    "\n",
    "As we have explained above, you can find similar embeddings by calculating the distance or similarity between the embeddings.\n",
    "\n",
    "But this isn't easy when you have millions or billions of embeddings. For example, if you have 1 million embeddings with 768 dimensions, you need to repeat the distance calculations for 1 million x 768 times. This would take some seconds - too slow."
   ]
  },
  {
   "cell_type": "markdown",
   "metadata": {
    "id": "0sjhTy-a47YH"
   },
   "source": [
    "So the researchers have been studying a technique called [Approximate Nearest Neighbor (ANN)](https://en.wikipedia.org/wiki/Nearest_neighbor_search) for faster search. ANN uses \"vector quantization\" for separating the space into multiple spaces with a tree structure. This is similar to the index in relational databases for improving the query performance, enabling very fast and scalable search with billions of embeddings.\n",
    "\n",
    "With the rise of LLMs, the ANN is getting popular quite rapidly, known as the Vector Search technology.\n",
    "\n",
    "![](https://storage.googleapis.com/gweb-cloudblog-publish/images/7._ANN.1143068821171228.max-2200x2200.png)\n",
    "\n",
    "In 2020, Google Research published a new ANN algorithm called [ScaNN](https://ai.googleblog.com/2020/07/announcing-scann-efficient-vector.html). It is considered one of the best ANN algorithms in the industry, also the most important foundation for search and recommendation in major Google services such as Google Search, YouTube and many others.\n"
   ]
  },
  {
   "cell_type": "markdown",
   "metadata": {
    "id": "xVOL8BgM2isz"
   },
   "source": [
    "## What is Vertex AI Vector Search?\n",
    "\n",
    "Google Cloud developers can take the full advantage of Google's vector search technology with [Vertex AI Vector Search](https://cloud.google.com/vertex-ai/docs/vector-search/overview) (previously called Matching Engine). With this fully managed service, developers can just add the embeddings to its index and issue a search query with a key embedding for the blazingly fast vector search. In the case of the Stack Overflow demo, Vector Search can find relevant questions from 8 million embeddings in tens of milliseconds.\n",
    "\n",
    "![](https://storage.googleapis.com/github-repo/img/embeddings/textemb-vs-notebook/9.png)\n",
    "\n",
    "With Vector Search, you don't need to spend much time and money building your own vector search service from scratch or using open source tools if your goal is high scalability, availability and maintainability for production systems."
   ]
  },
  {
   "cell_type": "markdown",
   "metadata": {
    "id": "uBt8tjidSzyU"
   },
   "source": [
    "## Get Started with Vector Search\n",
    "\n",
    "When you already have the embeddings, then getting started with Vector Search is pretty easy. In this section, we will follow the steps below.\n",
    "\n",
    "### Setting up Vector Search\n",
    "- Save the embeddings in JSON files on Cloud Storage\n",
    "- Build an Index\n",
    "- Create an Index Endpoint\n",
    "- Deploy the Index to the endpoint\n",
    "\n",
    "### Use Vector Search\n",
    "\n",
    "- Query with the endpoint\n",
    "\n",
    "### **Tip for Colab users**\n",
    "\n",
    "If you use Colab for this tutorial, you may lose your runtime while you are waiting for the Index building and deployment in the later sections as it takes tens of minutes. In that case, run the following sections again with the new instance to recover the runtime: [Install Python SDK, Environment variables and Authentication](https://colab.research.google.com/drive/1xJhLFEyPqW0qvKiERD6aYgeTHa6_U50N?resourcekey=0-2qUkxckCjt6W03AsqvZHhw#scrollTo=AtXnXhF8U-8R&line=9&uniqifier=1).\n",
    "\n",
    "Then, use the [Utilities](https://colab.research.google.com/drive/1xJhLFEyPqW0qvKiERD6aYgeTHa6_U50N?resourcekey=0-2qUkxckCjt6W03AsqvZHhw#scrollTo=BE1tELsH-u8N&line=1&uniqifier=1) to recover the Index and Index Endpoint and continute with the rest."
   ]
  },
  {
   "cell_type": "markdown",
   "metadata": {
    "id": "6pu1a3zjfQ0D"
   },
   "source": [
    "### Save the embeddings in a JSON file\n",
    "To load the embeddings to Vector Search, we need to save them in JSON files with JSONL format. See more information in the docs at [Input data format and structure](https://cloud.google.com/vertex-ai/docs/matching-engine/match-eng-setup/format-structure#data-file-formats).\n",
    "\n",
    "First, export the `id` and `embedding` columns from the DataFrame in JSONL format, and save it."
   ]
  },
  {
   "cell_type": "code",
   "execution_count": 13,
   "metadata": {
    "id": "GzZ30d4j_uLU",
    "tags": []
   },
   "outputs": [
    {
     "name": "stdout",
     "output_type": "stream",
     "text": [
      "{\"id\":73276629,\"embedding\":[0.0041965218,-0.00181919,0.0404502973,0.0815938786,0.0313943028,-0.0407873429,0.0592277795,0.0080615673,-0.0154767986,0.0577207766,0.0088985246,-0.0012703706,-0.0120836804,-0.0724954531,0.0168914758,0.0004403545,-0.0687388554,-0.0320196971,0.0017678328,0.0128763206,-0.0612134077,-0.0185279399,0.0187219363,-0.0241327491,-0.0582460873,-0.1100023165,-0.0296521727,0.0280090608,0.0120144552,0.0142248329,-0.0206178669,0.0327409692,-0.0484647118,-0.0245076306,0.0304572973,-0.0137908133,0.0126147931,0.0424808487,-0.0405978002,0.0089184083,-0.0411888808,0.0413348675,0.0205169041,-0.0177093893,-0.0170299336,-0.0390440524,-0.0485369563,0.0016375586,-0.0073868176,-0.0646018982,-0.0078457398,-0.0668576658,-0.0130680474,-0.0040973239,0.0419022962,0.0322337672,-0.0125540709,-0.0038464658,-0.0247258078,0.0698277578,0.0109023834,-0.032608483,0.0229543317,0.0101787383,0.0671384484,0.0146677587,-0.0077576293,-0.0171880797,-0.0527176,0.0250799693,0.0033032424,-0.0118012503,0.0554549322,-0.0077933669,0.0054875258,-0.0095456447,0.0046611247,0.0740384981,0.0315828584,-0.0639283359,-0.0175219476,-0.0778212845,0.0205534026,-0.1103242114,-0.0263658389,0.0432880484,0.0022884815,0.0231981613,-0.0010790764,0.0374893285,-0.0275095049,0.019689478,-0.0232165698,0.0637127757,-0.0145796379,0.0130309379,-0.0287527163,0.0122969234,0.0232674871,0.0177346449,0.0473911315,-0.0828931704,0.0145374835,-0.0153435608,0.0193023998,-0.0414141826,-0.0630040094,0.0506216101,-0.0660819858,-0.0743636712,-0.0523179919,-0.009512906,-0.0323095098,0.0911573619,0.0007019393,-0.003349802,0.0006990004,0.0133360811,0.0175805558,-0.0176683757,-0.0442572199,-0.0169902556,0.0264034476,0.0185750462,-0.0325728171,0.0163537376,0.0274204016,-0.0066504278,0.0526395366,-0.0292569716,0.0836578608,-0.0172126777,0.0611526668,0.0002357508,0.0269849524,0.0846230537,0.0130292755,-0.0211123284,0.0341575928,-0.0020090477,-0.0114358431,0.0247638598,-0.0281111468,0.0092906747,0.0171811339,-0.0606481694,-0.0039688195,-0.0399517417,-0.0298028868,-0.0392274149,0.0450240672,-0.0247571655,-0.0133668259,0.0357045382,0.0309819356,0.0539057031,0.0095167803,0.0080429362,-0.0559783392,-0.0468609817,-0.0319591276,-0.0326018557,0.0279966295,0.0242078789,0.0435687974,0.0036050996,-0.0054926295,-0.0050443495,-0.0004898132,-0.011976501,0.0223387349,-0.1664747149,-0.0149908699,-0.0792046115,0.0821771845,-0.0161193218,0.0244645737,0.0101896664,0.0141757149,-0.0181192122,-0.042480845,-0.0302160196,0.0225104503,-0.0522895791,-0.0481789671,0.0266614109,0.0388107412,-0.0113164922,-0.0334062763,0.0462190323,-0.0192996692,0.0061083422,-0.0026181368,-0.0326050557,-0.0274923611,-0.008372576,0.0640250742,-0.0833348036,-0.0444150753,0.0295408405,0.0136808036,-0.0235464759,0.0258091632,-0.0119131012,-0.0122435503,-0.0021976056,-0.0714240819,0.0181502029,0.0063988226,0.022302771,0.0093545942,0.0054300441,0.0130343018,0.0194180235,0.0134262396,-0.0528758913,0.0031367247,0.0387299359,-0.0494114645,-0.0049693445,-0.0093484279,0.0216605179,0.0511313714,0.0147388307,-0.0104809953,-0.0116765695,-0.0433791727,0.0469643958,0.013665393,-0.0027592876,0.0171411298,0.019465778,-0.0156523436,-0.0197839271,-0.0177739933,0.0280158985,-0.0512180217,0.0323164389,-0.0555257015,0.0376566425,-0.0611147024,0.1035955921,-0.0232715756,0.0350021832,0.0190571789,0.0259894505,0.0004283647,0.0128516397,-0.0165537465,-0.0453056619,0.0338436328,-0.0718101636,-0.0169101153,-0.0004289936,0.0213515889,0.0195835475,-0.0437499881,0.0504456311,0.0018343761,0.0295156706,0.014590973,0.0098990742,0.0514228381,0.1079915836,-0.0256627537,-0.0386169031,-0.0667767674,0.0233431309,0.0654592216,-0.0335535221,0.0015632994,-0.0503524505,-0.0046772556,0.0077320742,0.0142761208,0.0305262748,0.0317602605,0.0594998747,0.0556314141,0.0743314549,-0.0101757282,-0.026053343,0.0521497577,-0.0156301055,-0.0259728376,-0.0172227733,-0.0072999601,-0.0199749004,-0.0384945534,-0.009602109,0.0438715219,0.0023917451,0.0136035448,0.0408692658,-0.0478579402,-0.0052234782,0.0396939404,-0.0383587703,-0.0242931545,0.0461394861,-0.0255004,-0.0074410303,0.0093651637,-0.0038635251,-0.0265667178,0.0025525875,0.0188563038,0.025020184,0.0350318812,-0.0046930015,0.0076955045,-0.0177402459,0.0326073393,0.0126643805,-0.0307297036,-0.013373578,0.0503318124,-0.0246708579,-0.0366418771,0.0694031417,-0.0271653961,0.0284784194,0.0598229207,0.0115945367,0.0067789103,-0.0544251353,-0.0197903011,-0.055297561,0.0131244482,-0.0430806912,-0.0088795368,0.0250311233,-0.0469601341,-0.0243586972,-0.0471382886,0.0025501135,-0.0386937298,0.0329337381,0.0189384539,-0.0298795588,0.0371861532,-0.0216886159,-0.0235128049,-0.0162608959,-0.0340089463,0.0169564411,-0.0385713764,0.0088669825,0.0146627072,-0.0363535583,-0.0101990933,0.0102018239,0.0245579407,0.0482195169,0.0080977771,0.0180178601,0.0232092552,-0.0045806947,0.0202408098,-0.0228726678,-0.0708799213,0.0105061615,-0.0782584995,-0.0538737699,0.0421398245,-0.0348607227,-0.0542835146,0.0299168415,0.0191876497,0.0137043642,-0.0097233588,0.0144756688,0.0198783316,-0.0411593281,-0.0974996835,0.0255527329,-0.0304306038,0.0354903862,-0.0048811957,0.0278050713,-0.0413922518,0.0041054552,-0.0034564941,-0.0117351646,-0.0117141148,-0.0149620147,0.051361464,0.0378169604,-0.0367690399,-0.0261858534,0.0612947531,0.0406817682,0.0184476301,0.0126279341,0.0128754964,0.0414419658,-0.0413419195,-0.0091256592,-0.0145129934,-0.0260649342,0.0099325469,0.0102169067,-0.0972462073,-0.0414194949,0.023884343,0.028830111,0.0574695766,0.0389939137,0.0056241746,-0.0229464322,-0.0030360932,-0.0319564342,0.0125237294,0.0038136065,0.0210165642,-0.0500907861,0.0433844887,0.0029927015,0.0203521047,0.01436783,0.0476307757,-0.0428768881,-0.0458578467,0.0318890586,0.0032962619,0.0266598575,-0.0484967455,0.0211731568,-0.016420763,0.002917141,-0.0574993342,0.0127837071,-0.0049633724,-0.0668740645,-0.0189741943,-0.0451146774,-0.000839928,0.0966469646,0.0230027363,0.0217852183,-0.0746688098,0.0246012136,-0.033923883,0.005568895,0.0180769488,-0.0174788497,-0.0448276885,-0.0190751404,0.039545238,-0.0210615061,-0.0032777626,-0.0183881223,0.0413685627,0.1021023095,-0.000048513,0.0482141078,-0.0181014147,-0.0271145403,0.0208802857,0.0447900891,-0.0278716944,-0.0466476567,-0.0233395975,0.0846262798,0.0298864413,-0.0430374891,-0.0047662049,-0.0050578304,-0.0172814038,-0.002452695,0.0032318349,0.0533930324,0.0374178849,-0.0018077197,0.0441742316,0.0165808201,0.0172073636,0.0034971035,-0.0719610602,-0.0238735843,-0.0778942555,-0.0120492913,-0.0329607576,-0.0080610085,-0.0319758579,0.0439626947,-0.0148476353,0.0002306364,0.0127462856,0.009857472,0.0477880649,0.0045647435,0.0460158512,-0.0242161639,0.0002795216,0.0330987349,-0.0095500974,-0.0194882471,0.0149440542,0.0036646125,0.0245946404,0.0178375039,-0.0033526167,-0.0361356251,0.0121616032,-0.0412433073,0.0365920514,-0.0123081552,0.0033737321,0.0046392325,0.0466300249,0.0382238477,0.0323510952,-0.011665686,0.0127023887,-0.0012800796,-0.0012987768,0.0455914363,0.0344690345,-0.0145465871,-0.0285059102,-0.0146014355,-0.0058693909,-0.0035643619,0.0498818643,0.0288808774,-0.0027485513,-0.0074699363,-0.0238981862,-0.0211821608,0.0264513977,0.0642783716,-0.0155414129,0.0196564216,-0.0176865403,-0.0445121937,0.0770165101,-0.0067329793,0.0257135518,0.0997850448,-0.0135060847,-0.0732858554,0.0364876688,-0.0006431349,-0.0272448938,0.0223835986,0.02489697,-0.0170939732,0.0150635084,0.0334569998,0.0056344001,-0.0368603989,-0.0010868552,0.0615862757,0.035745725,-0.0114428168,-0.0405750759,-0.0047081113,-0.0080758985,-0.0772391707,-0.0480063483,0.0298698191,0.0292113293,0.0063830828,0.0748691559,-0.0295273773,0.0227638967,0.075567238,-0.003801055,0.0433405265,0.0145246983,0.002236191,0.0295132753,0.0153445164,-0.0102536716,0.0051333332,-0.0523483865,0.0163636263,0.0079774633,0.0545446649,-0.078447178,0.05911218,0.0190287437,0.0287386868,0.0005291586,-0.0205607172,-0.008559701,0.0097461827,-0.0193473361,0.0246256683,0.0025250753,-0.0872392431,0.0064580627,0.0038558741,-0.0596666373,-0.0341737941,0.0039227093,-0.0094239824,-0.0031449962,-0.0142272022,-0.0572093204,-0.0038573521,0.0622105524,-0.0676093698,-0.0128218913,-0.0117131788,0.0461380035,-0.0033978496,-0.0081222812,0.0017812182,0.0373316333,0.0384251215,0.0241780076,-0.0116977328,-0.0416243933,-0.0398551337,-0.0315297879,0.0254026055,0.0044393097,0.0025075211,0.0065761209,-0.0170873702,-0.0739151388,-0.0630096048,0.0693808869,-0.0169660226,0.0451324172,-0.004642359,-0.0306951459,-0.03747008,-0.0371921062,-0.0351362862,-0.0259328801,-0.0380922109,0.0126957186,-0.0315400437,-0.0389606133,0.04706043,0.0290164743,0.0057880864,0.0325327814,0.0177821089,-0.0206752643,-0.0681705177,-0.0141997384,-0.0028817637,-0.0384837873,-0.0399603173,-0.0033500548,0.0611240827,-0.0073819798,-0.0265713912,-0.0057823695,-0.0200127773,-0.0326075591,-0.0326744206,0.0111210914,0.0116687827,0.0208098143,-0.0198718049,0.006999942,-0.0053924313,0.0183828287,0.033484105,-0.0095192501,0.0503280237,0.003189188,0.0044726161,0.0282829069,-0.0088814711,-0.0411113612,-0.0850034803,0.0115993544,-0.0327819102,0.0139698582,-0.0062250826,0.005317206,0.0944552422,0.053354647,0.013561029,-0.0233765766,0.0189435743,0.0145207616,-0.0063312817,0.034366522,-0.042682495,-0.0005237375,0.0408731252,0.023253113,0.0191849265,0.0302659199,0.0050666491,-0.0405451395,-0.0424977615,0.0216614716,-0.0805307627,-0.002606892,0.0229750685,-0.0420980528,0.004784212,-0.0090820258,0.0434608534,0.0728335679,0.0442440957,0.0621671528,-0.0364297442,-0.0286440589,0.0060479282,-0.0062208525,-0.0284814835,0.0284966696,-0.0649303719,0.037847016,0.0349366739,-0.0118554169,0.0424328968,-0.078188926,0.0464790985,-0.0031760463,0.0452605002,-0.0083856313,-0.0137457391,0.0451488234,0.0060386444,-0.0333252028,0.0117253456,0.020494096,-0.056768585,-0.0420769416,0.0208568983,0.0172233135,-0.019885987,0.0083878348,-0.0278122742,0.0041467184,-0.0199823827,0.016780084,-0.0402680971,0.0563096181,0.0211311057,0.0113636237,0.0439086854,-0.0115746502,-0.0219068658,0.0300032347,0.0390350409,-0.0113163032,-0.0177226104,0.0195347778,-0.0576342866,-0.0232372917,0.0401432887,0.0221958142,0.0248800982,0.0000193107,0.0533009544,-0.033850085,0.0740996003,-0.0043592216,0.0446623974,0.0107754301,-0.0064708898,-0.0178599525,0.0294897705,0.0102652628,0.0055079353,-0.0006938772,-0.0193702634]}\n",
      "{\"id\":73457355,\"embedding\":[-0.0227645673,0.0354165435,0.029663749,0.0157203507,0.0643646419,-0.0306749884,0.0230195653,0.0307367016,0.0059553464,0.0369125716,0.0328914672,0.0304847341,0.0280251931,0.0111975642,-0.0171364546,-0.0307289138,-0.04792374,-0.0209509619,0.0615674704,0.0324551873,-0.0427264422,0.0025562285,-0.0061035333,-0.0268647186,-0.0420926772,-0.0910103396,0.0265248101,0.0152024869,-0.0400483236,-0.0199153144,0.0306700803,-0.0031569963,-0.0260769725,-0.0032745972,-0.0104461908,0.0562279113,-0.0357379615,0.047388263,-0.0150957452,-0.0044008205,-0.0093550161,0.0078384234,-0.0306054,0.0100968312,-0.0303556416,0.017203873,-0.0116730565,0.0023545469,-0.0327052101,-0.0640059784,-0.0351832695,-0.0199366584,-0.0446199737,0.0405939259,0.0103453752,0.0422369838,-0.058254011,0.0186695699,-0.0547924154,0.0277664531,0.0377876125,0.0066707139,-0.0100551061,-0.0367167555,0.0062247394,0.0425724611,0.0432717837,-0.0441827066,-0.0634088367,-0.0558838882,0.0298602898,0.0126631828,-0.0237057656,-0.0025463954,0.0533815809,-0.0054646619,-0.0194319617,0.0218045022,0.0387448221,-0.0092830276,0.0066332947,-0.0679923147,-0.0643845275,-0.0633549765,-0.0213477872,0.0509538464,-0.00991181,0.0242880825,-0.0592879169,0.0567030236,-0.0093923239,0.0505784415,-0.0168901756,0.0596666187,-0.0055898568,0.0295519605,-0.01444689,-0.0127250496,-0.0376625285,0.0127781741,-0.0425735302,-0.0051087509,0.0488598607,-0.0051433537,0.0093135722,0.0171528962,-0.0554638505,0.0058521749,-0.0068888194,-0.0912351981,-0.0881227478,0.0480846949,-0.068035163,0.0090442533,-0.0101384893,-0.0603001937,0.0279291291,-0.0063613798,0.0418627709,0.0459788404,-0.0208789967,0.0144754723,0.0450825319,-0.0348506197,0.0218032245,0.0332413986,0.0532834716,-0.0030914135,0.0023673067,0.0217970405,0.0146070058,-0.0045804786,0.0087912222,-0.0148133682,0.0538765825,0.0326380655,-0.0082486495,-0.0063034059,0.0380507633,-0.0336003862,-0.040777307,0.0074784607,0.0227203015,0.0364209414,0.0066902321,-0.0332391486,-0.018036155,0.011058935,-0.0460591651,0.0198304001,0.0175570752,-0.0201908052,0.008940069,-0.018157322,0.0128390109,0.0681940392,0.0494384058,0.0305847377,0.0047915387,-0.0799363554,0.0183202252,-0.0655390471,0.0035102786,0.0081916982,0.0165553279,0.0450228937,0.013526815,0.0206352044,0.0011356382,-0.0353022665,0.0320335738,-0.1108960062,0.0466116853,-0.0906376764,0.0208070353,-0.0167213567,-0.0005087848,0.0387561284,0.0294557493,-0.0534054376,0.007397058,-0.0580539778,0.0375804082,-0.0192500576,-0.077329956,-0.0027495453,0.0317292772,-0.0591168627,0.0123379175,0.0115351044,-0.034152966,0.0076325322,-0.0147530595,-0.0234145727,-0.0152278272,0.0399408415,0.0477977321,-0.0713630021,-0.0549026653,0.0253546443,0.0060401922,0.0257200934,-0.0271295942,0.0360710323,-0.0017812181,0.030956341,-0.0753875524,0.0103893653,0.0257248469,0.0080145188,0.0307717156,0.0305135828,0.0722283497,0.0010326426,0.0075858957,-0.0504147299,-0.0018815547,0.0163328759,-0.0415388383,-0.006591863,-0.0111700594,0.0408902466,0.0618315451,0.0239072405,0.0150496634,0.0369602852,0.0099810064,-0.0210816301,0.0341743492,-0.0352413058,-0.0317799188,0.0249242224,-0.026029449,0.006758078,-0.0607276149,0.0276137572,0.0200784281,0.030360613,-0.0983685553,0.0711528063,0.0244202539,0.093585819,0.0543263108,-0.0095108412,-0.0233756974,-0.020735709,0.0126218675,0.079530701,0.0289678201,0.0038122856,0.0387695283,-0.059847407,-0.0353997424,0.0194756947,0.0358831473,-0.0252523534,-0.01278181,0.0469100885,-0.0065416447,0.000170741,-0.0065189763,0.0221601687,-0.038251467,0.1070804894,0.0187319182,-0.0713805854,-0.0010135259,-0.0172324348,0.0197299402,-0.033899609,-0.039948903,-0.00686173,0.0062838523,0.042332802,-0.0241061114,0.0195241664,-0.0221093819,0.0185784213,0.0259103198,0.0267930273,0.0311615951,-0.0394331068,0.0248045661,-0.0361278318,0.0059662354,0.0215141289,-0.0171108041,0.0471632667,-0.0405723751,-0.0400069542,-0.0305207931,0.0487824157,-0.0239172075,0.0329172648,-0.0142197721,-0.013985794,0.0329954848,-0.0031296827,0.0153802279,0.0290220492,-0.0179380961,0.042761419,0.0150820492,-0.0284913667,-0.0333655626,-0.0474056862,0.062214613,-0.0246966463,0.0302157383,-0.0495568141,-0.0517205074,-0.0405611992,0.0526603945,-0.0563008599,-0.0438935608,-0.0310677886,0.0135106128,-0.0156760644,-0.0253188107,0.0144622615,0.0108353328,-0.0300296694,0.0364609323,-0.0291031394,0.0027737564,-0.0005101625,0.000582181,-0.0043044095,0.0535642505,0.0148022491,-0.0175870899,-0.039510835,-0.0137477806,-0.012925243,0.0412939005,0.049116198,0.0163351335,0.032642886,0.022225406,-0.0237976965,0.0241246372,-0.0090657678,-0.0195257477,-0.0386922397,-0.0069953301,0.0344042331,-0.0603755713,-0.0428602919,0.0183601454,-0.0731793493,0.0043943613,-0.0448539592,-0.0627632886,0.0343889669,-0.0133664059,0.016788017,0.017390091,-0.0012510029,0.0442439429,0.0111770434,-0.0596309379,-0.007050999,-0.0218888819,0.0319126621,-0.0020186857,0.0068192245,-0.0623096079,0.052536726,0.0536053255,0.0052757538,-0.0550891086,-0.0061246064,-0.0314855576,-0.0566538759,-0.0046068309,0.0181227643,0.017561337,0.0223169103,0.0218369961,0.017074544,-0.0317420214,0.0438008122,0.0541256443,-0.0208890773,-0.0267611779,0.0235436242,0.0201428495,0.0546974055,-0.016063286,-0.0247570556,0.0500105582,0.0292516276,0.0539713688,-0.0192443915,0.0029725088,0.0454755761,-0.0406486578,-0.0036173868,-0.0452717058,-0.0270278025,0.055799935,0.0349412374,-0.0402231403,-0.0868679658,0.014570443,0.0299590603,0.0072162664,-0.0117869563,-0.0241131801,-0.0543536171,0.0425172783,-0.0399489626,-0.002157267,0.0191312209,-0.0130347945,-0.0374178439,-0.0054733017,-0.0063736793,-0.0270787086,0.0331658386,0.0639187247,-0.005272205,-0.0445861779,0.0186297596,-0.0169266816,-0.0177432355,0.0003640727,0.0445067398,-0.0493203476,-0.0363736674,0.0297022052,0.0048784427,-0.0004494609,-0.0749137998,-0.0118092624,-0.050376635,0.1185122803,0.058270473,0.0392844193,0.0284026712,0.0329173468,0.0039922772,-0.0034958343,0.0313949399,-0.0115657188,-0.0080944495,-0.0433142483,-0.0253942851,-0.0568588078,-0.0092615746,-0.0421159901,0.0057498664,0.0609816462,0.0865250006,-0.032400813,0.0161374938,0.0157755259,-0.0221206583,-0.0276267119,-0.0136524243,0.0195800699,-0.0113354055,-0.0445092283,0.0474392399,0.0240588374,-0.0362050906,0.0549853817,-0.0038852687,-0.0405612327,0.0240664072,-0.0511734113,0.0190088339,-0.0580114014,0.0397972055,0.0586569048,-0.0230745021,0.0568192229,0.0063012489,-0.0177695695,-0.0114412801,-0.0174591374,-0.0622867607,0.0078414623,-0.0242072195,0.0011807054,0.0629211366,0.0498420671,-0.0249418989,-0.023596514,-0.0349540822,0.0225605778,0.0430139937,0.0157354064,-0.0162942354,0.0274127368,-0.0268306881,0.0235689972,0.0567610823,0.0343588479,0.0154259857,-0.0137027204,0.0385011174,-0.0350453854,0.0175315943,-0.0230223835,-0.0084543657,-0.0124522187,-0.0111217825,0.0003514006,0.0275919586,0.0009135242,-0.0123623218,-0.0101651819,-0.0269142389,0.000405097,-0.0121281045,-0.0143926693,-0.0152896037,-0.0231660288,0.0251387078,0.0184167586,0.0365834609,-0.0491629913,0.0389242433,-0.0049882876,0.0578180589,0.0022864584,-0.0154467467,-0.024305921,-0.0406413451,0.0199782308,0.0173672345,-0.0305527896,0.0010552783,0.0194726158,-0.0066077593,0.0229502283,0.0248832759,0.0498857126,0.0448847339,-0.0084467661,-0.0230848063,0.0382271558,0.0038366069,0.0197886582,-0.0225876868,-0.0044149589,0.029661756,-0.0042611342,-0.0257217027,-0.0108218482,-0.0604851022,-0.023127351,0.0640042052,0.0084991371,-0.0362216979,-0.02805374,-0.0420685299,-0.0127873905,-0.0040230304,-0.0481425859,0.0104950471,-0.0032707467,-0.000827681,0.0600810125,-0.0318561941,0.0584883243,0.0104882298,0.0799702778,0.040717952,-0.0047754929,-0.0548135936,-0.0026174013,0.0103334887,-0.0152991898,0.026917981,-0.0447998419,0.0583838783,-0.0266190432,0.0146557596,-0.0006991953,0.0135049615,0.0115537895,0.0739709735,-0.007923523,0.0153560136,0.0101529416,-0.0352911204,-0.0355888605,0.0047554197,0.0535465777,-0.0413535759,0.0249029305,-0.0272217784,-0.0198647995,-0.0414622091,-0.0551967919,-0.0038550755,0.0037657397,0.0456680022,0.0125172175,0.0264896899,0.0287968274,-0.0603381805,-0.0158257615,0.0206328817,0.0510886274,0.0077205184,0.0321677066,0.0547352508,0.0446370728,0.0466645211,0.0096046468,0.0349322371,-0.0173421614,0.0054988028,0.0007828734,0.0654870793,-0.0025657134,0.0220825281,0.110108912,-0.0104961488,-0.0192641765,-0.068564184,0.0568341687,0.0088421311,0.0529047847,-0.0278798342,-0.0540155619,0.0235048328,-0.0355668552,-0.0518276729,-0.047322996,-0.0418177322,0.0197718088,-0.0634707808,-0.01621259,0.029958576,0.0530537292,-0.0307343286,0.0469971448,0.0268065408,0.0243355576,-0.0214190707,-0.0473924913,-0.0392827168,-0.0583682433,-0.0661678538,-0.0015567292,0.0103934053,0.014230879,0.0037277592,-0.0033400017,-0.0429601707,-0.0160689894,-0.0931653902,0.0053337798,0.0100342883,0.0378380604,0.0067782421,-0.0001204501,-0.0034787315,-0.0047230325,0.0839123353,-0.0445588864,0.0717196614,0.0220965315,-0.0013710608,-0.0319843404,-0.0103418697,-0.0779949799,-0.055159498,0.0121408422,0.0051519237,0.071636714,0.0334316269,0.0208713599,0.0643912405,0.0152063007,-0.0167066157,-0.0217119437,0.0018490197,0.0327690728,-0.0068549812,0.0035280087,-0.0302617829,0.004339301,0.0386135355,-0.0137728276,-0.0209991876,0.0069683297,0.0173400734,-0.0572219975,-0.0053989072,0.0256387778,-0.0452756658,-0.0097289132,-0.049015902,-0.0248923209,0.0746151954,0.038504906,0.0209013652,-0.0057673487,0.0225460548,0.0048859897,-0.0140734576,-0.040339727,-0.0454727709,-0.0305307526,-0.01712781,0.0095836837,-0.0421464331,-0.01556083,-0.0164603088,-0.0089863781,0.0346312225,-0.0647173524,-0.0470140092,0.0429661348,0.0219331812,0.0042171413,0.0250982326,0.0190645009,-0.0198122114,0.0000056629,-0.0799029991,-0.047491625,-0.0576296225,-0.0168481767,0.0173494574,0.0189986918,0.0134276217,0.0716828853,0.0500154048,0.0262210667,-0.0154906167,0.0494337641,-0.0474685282,0.036440894,-0.0303444359,-0.0358294696,0.0632112846,-0.0403432734,0.0276769195,-0.0047317669,0.0014094707,0.0061002471,0.0084712505,0.0400178805,-0.0498440675,-0.0484261587,0.0219484698,-0.0124618588,0.0302354209,0.0199171398,0.0390010215,0.004423955,0.0626513585,-0.0000144257,0.0567425117,-0.0296114795,-0.0398730077,-0.0466231145,0.0526756793,-0.008220898,-0.0265496578,-0.0367887393,-0.0495460778]}\n",
      "{\"id\":73408082,\"embedding\":[0.0102469129,-0.0004896668,0.0388070568,0.0671050698,0.0443863086,-0.0332301483,0.0558066629,0.0008799719,-0.0427031517,-0.0118184844,0.0095917173,0.0341076218,-0.0005582215,0.0185181201,0.0109198326,0.0432530679,-0.0347943716,-0.0342225283,0.0213025454,0.0566038936,-0.0570983812,-0.0103070391,0.0211595204,-0.0038206808,-0.0376606137,-0.0406003185,0.0397042632,-0.026951272,0.0265485477,0.0175595805,-0.018316336,-0.0077867815,0.0025587038,-0.0102160601,0.0089891404,0.0201019626,0.0402255021,0.0559773631,0.0504485555,0.0169814993,-0.0215955041,-0.0084856851,0.0303936321,-0.0187091418,-0.054887794,-0.0122350063,-0.0600611158,-0.0412177779,0.0032692151,-0.0145962257,-0.0315924473,0.0246219933,0.014730677,0.005339663,0.000596957,0.0478159189,-0.0278544184,0.0239653923,-0.0570621751,-0.0141173424,0.0066318312,0.007988913,0.0263034012,-0.0014218644,0.0371619575,0.0195072237,0.0267030168,0.0255411975,-0.0147661343,-0.0128986156,0.0585306659,0.0054679308,0.0252831224,-0.039176289,0.0839255005,0.0599921383,-0.0146588814,0.0153472591,0.0557735711,-0.0456489027,-0.0641439259,-0.0304055754,-0.0090662995,-0.0969888568,-0.0005946273,0.0411678031,0.0088242982,-0.0329814106,-0.0572340377,0.0320753828,-0.0306074917,0.0273445323,0.0041844975,0.0458575748,-0.0153447362,-0.008257431,-0.0597933829,-0.0174039509,0.031679716,0.0055846656,-0.0046452805,-0.0344559476,0.0476554595,-0.0371037833,0.0768575296,0.0232973304,-0.0823623911,0.0209972095,-0.0575709268,-0.1130772009,-0.0536571071,-0.0108015686,-0.0071057701,0.0441871285,-0.0163723454,-0.0125439409,0.0171373319,0.0030263122,0.0227968842,0.0119653624,0.0072952881,0.0070974939,-0.0221398938,0.0287307762,0.0186616369,0.034066245,0.0295293909,0.0036960749,0.0293082241,-0.0670197606,0.0552680455,0.0257274266,0.0539985746,-0.015498477,0.0082663549,0.0016097209,-0.0230610818,-0.0015860767,-0.0033943376,-0.0035292848,-0.0175845269,0.010466136,-0.0223089252,-0.0153801246,0.0026034189,-0.0502790473,-0.0285273567,-0.0323789269,-0.0686576739,0.0221469309,0.0421355553,-0.0363306589,0.0427843221,0.0031764416,0.0616964698,0.0938092023,0.0585126691,0.0050368719,-0.0329311788,-0.0517350212,0.0031342506,-0.0353109613,0.001067295,0.0049893875,-0.0055456469,-0.0048884167,-0.006297098,-0.0018419302,-0.0024188692,0.026974028,0.0379579328,-0.1261007935,-0.0117083313,-0.0613968074,0.0396553166,-0.0024035608,0.0076565696,0.0177767538,0.0239700526,0.0368591845,-0.0052209026,-0.1114999428,0.039467413,0.0036612952,-0.0877293274,0.0284400769,0.0076164235,0.0011861175,0.0195910931,0.0660095289,-0.0421811827,0.0189109929,0.0652144328,-0.0497614071,-0.0525162891,0.0161087178,0.0364131406,-0.1142796427,-0.02013449,-0.0002317452,0.0036454471,-0.042865701,0.0115224393,-0.0196131114,0.0162190869,0.0262599885,-0.0453337952,-0.0079135718,-0.0271324571,0.0377924889,-0.0220298171,-0.003808555,0.0740718096,-0.0246472843,0.0077024526,-0.0124561498,0.0071633705,-0.0147274351,-0.0324923657,0.0289325491,-0.0241190996,0.0238897,0.0269429274,0.0326425098,0.0184647162,0.0109826121,0.0116277263,0.0031696719,0.0446793735,0.0037861399,-0.0132339085,-0.0087855924,0.0109194173,-0.0465006195,0.0005409608,0.059998136,0.0643468946,0.0158304535,-0.0774704739,0.0275861863,0.0243344158,0.0669751987,0.0228987485,0.0424171947,-0.0023294375,0.0588097982,0.0110130319,0.0576692671,0.0332822502,0.0242368672,0.0101229744,-0.0507364795,-0.011443533,0.031290859,-0.011742196,0.0106118955,0.002899382,0.0733166337,-0.0563239306,0.0166760553,0.0244536605,0.0222003814,0.033279743,0.0681810081,-0.0306797009,-0.0324262343,-0.005570692,-0.0149778603,0.0353308208,-0.0304700583,-0.0212935265,-0.0234557409,-0.0198553447,0.0157689806,-0.0448670313,-0.0146520147,-0.0251203869,0.047517702,-0.0124003338,0.0596257299,0.0407986939,-0.0218359642,0.0287841596,0.0061576786,-0.0331519432,0.0055544684,-0.0123626618,-0.0449201278,-0.0633867159,0.0166807678,-0.0020840399,0.0003542806,0.0210734047,0.0322406031,-0.0054798368,-0.0265486632,0.0453882627,0.0467931814,-0.0242655445,0.0219140667,-0.0423990488,0.0060680471,0.0170371477,-0.0703868642,0.0103628896,0.0161600988,0.0174311046,-0.0013766688,0.0530147702,0.0136040831,-0.0570891984,-0.0244732741,0.0303881597,-0.0030221154,-0.0338272937,0.0006494299,0.0162654091,-0.0284701977,-0.0187231265,0.0339223705,-0.0451076888,-0.0050529763,0.0843020454,-0.0107045863,-0.0249161646,-0.011974968,-0.0263222046,0.0170827266,0.004628574,-0.0088680973,-0.0186273903,0.0377272181,0.0155826164,0.0042437329,-0.0466228798,0.0167303141,-0.0121324621,0.0228837691,0.0004636746,-0.0942271054,0.0535735525,-0.0181622859,-0.0246179104,0.0091300914,0.0171614662,0.0254173335,-0.038758982,-0.038563177,-0.0025496469,-0.0721265897,-0.0223205648,-0.0091655366,0.0015001537,-0.006824743,0.0300338585,-0.0218882076,-0.0016595598,0.0301933698,0.0444212705,-0.0323284417,-0.0446755141,-0.0408554487,-0.0594096743,-0.024175249,0.0260271505,0.0062958072,-0.0339543894,0.0370571688,0.0528675616,0.0181295071,0.0099526644,-0.0484814793,-0.0070855403,-0.0564996153,-0.0165640656,0.0266082678,-0.0385220498,-0.0135919955,-0.0075890296,-0.0263200179,-0.0179964397,-0.0206853338,0.0213847551,-0.0109322779,0.0083439155,0.0261063334,0.0322839357,0.0027014972,-0.0114641245,-0.0513981171,0.0379052162,0.0337909758,0.0300871693,-0.0049499092,0.0140327457,0.0420801565,-0.0529536009,0.0125793396,-0.0428037494,-0.031817086,0.0236444622,0.0209856667,-0.0320816152,-0.0768975317,0.0483026691,0.0294939447,0.0173192937,0.0333266817,-0.0316541977,-0.0783230364,0.030626826,0.033439517,0.0136246895,0.0153655978,0.0369287878,-0.0133122839,-0.0033251864,-0.0224188492,-0.000463215,0.0332080685,0.0417009033,-0.0095918309,-0.0448416062,0.030476233,0.0175663475,-0.0362244174,-0.0328069925,0.098546274,-0.0335980617,0.0279451758,-0.0055936137,0.0674098656,-0.0344032906,-0.0254125763,-0.070960708,-0.0596705861,0.0381192341,0.0802923962,-0.0101725282,0.0295636971,-0.0056731105,-0.0165919606,-0.0257602856,0.0177154094,-0.0363343768,-0.0280150641,0.0177318454,-0.0458128676,-0.0510282703,-0.0281539671,-0.0368538126,-0.0041703559,0.0944763795,0.0680028722,0.0061809015,-0.0023258817,0.0144937402,0.0005439467,0.0007976166,0.0273860749,0.002200292,-0.0062958747,-0.0488673933,0.0522306599,0.0316391848,-0.0014631138,0.0296543539,0.0244609024,-0.0268837828,-0.0139819467,0.0222546384,0.0733521953,-0.0377595164,0.0373836383,0.0635247678,0.0297318473,0.0430186838,0.0377306305,-0.0398322307,-0.0320756398,-0.0168676302,-0.0199537687,0.0162120108,-0.0097866841,0.0106726699,0.0355306454,0.0337059498,-0.0467250608,0.0271731094,-0.0084745931,0.0351307653,-0.0193344131,0.0447456017,0.002549611,0.0004159153,0.0255801268,-0.0107615171,0.0474352203,0.0208871216,0.0091916211,0.0413591601,-0.0024026276,0.0182873663,0.0271078981,-0.0612277612,-0.0327673964,-0.0129117873,-0.0713688955,-0.0396878496,0.0045580752,-0.0411273129,0.016091032,0.0375246853,-0.013470714,-0.0509224683,-0.042767942,-0.0460897982,0.023717273,-0.0439504534,0.0043145474,0.0279382244,0.0102863945,0.0166384075,0.0021236902,0.0431825742,0.0587380864,0.0062480802,0.005646809,-0.0464763269,0.0155583275,0.0445517227,0.0223705266,0.0047554639,-0.0100274934,0.0171914287,-0.0336740576,0.0442269742,-0.0326048024,0.0328631215,0.1503058225,0.0073036309,0.0003697113,0.0792779773,-0.0302260816,0.0053339764,-0.0307206865,0.0209124889,0.02470484,-0.0313616544,0.0882628486,0.0051340531,0.0493711866,-0.0548257641,0.0773992017,-0.0094835777,-0.0428651124,0.0014724674,0.0006115021,-0.0576394126,-0.0435916521,-0.0410006344,-0.0223921109,0.023489181,0.0334637202,0.0570037998,-0.0562947877,0.0425927565,0.0328146033,-0.0136909615,0.0571863167,0.0069939871,-0.0505333953,-0.0181704927,0.0431760363,0.003172843,0.0106512289,-0.0165651161,0.0046644071,-0.0088723106,0.0449918769,-0.0457252897,0.0371638685,0.0286885761,-0.0077578416,-0.0235536862,0.0221190229,-0.0060597444,-0.0215292741,-0.0216207001,-0.015984498,0.0163939856,-0.0581631958,0.0423783064,-0.0197506286,-0.0414136611,-0.0224615932,-0.017222872,-0.0203371421,-0.0720245913,-0.0069848406,-0.0220736209,-0.0002929629,0.02694159,-0.0454262681,0.0055939243,-0.0104971323,0.0577323362,0.0076559652,-0.0215622112,0.0410679504,0.0378612354,-0.0044242879,-0.039040491,-0.0441885702,-0.0429424271,0.0201911014,-0.0075230282,0.0573149137,-0.0005254279,-0.0250341501,0.0181547459,0.0214136317,0.0079678819,-0.0187938958,0.0294653885,0.0031903461,0.0589507632,-0.0217093863,-0.0423283502,-0.0205672495,-0.0111313406,-0.0107945977,-0.0483841263,-0.0566338077,0.0379894003,-0.0654818788,-0.0073888972,0.0533860736,0.0296171531,0.0284302477,0.0091281561,0.0323969126,-0.0119252512,-0.0234674904,0.0175663903,-0.0290072337,0.0023039861,-0.065102838,-0.0002450598,-0.0137445657,0.0210298374,-0.0236568823,-0.0537501574,-0.0475268885,0.0303836167,-0.011514347,0.0197396446,0.0022688289,-0.0267095584,-0.0174089577,-0.0063939481,-0.0165071636,0.0641076788,0.0460428447,-0.091178678,0.0394852944,-0.0084342398,0.0101300078,0.0336329602,0.0060014147,-0.0266345013,-0.0047682426,0.0086742099,0.0031723594,0.0151205342,-0.0046443567,0.0335669369,0.0510875098,0.0331211723,-0.0081251152,-0.0615550876,-0.0289396495,0.0001873951,-0.0166335814,0.0181011241,0.035903044,0.0331949219,0.0191622153,0.0685280114,-0.0505774319,-0.0305495299,0.0074746227,-0.0446139276,0.0064082495,0.022138074,-0.0513471812,-0.0047330372,-0.0138734533,-0.0047781006,0.0005498079,0.0429395027,0.0075004222,-0.01029565,0.0499612838,0.0521571226,-0.0487708375,-0.0287713334,-0.0336000286,-0.0293231439,-0.0449838489,-0.0185772739,-0.0196425114,0.0144946836,0.0000488168,-0.0262888353,0.0169581901,-0.0811407268,0.0279456899,0.030965358,0.0160809401,-0.0381970182,0.0422841422,0.0836798102,-0.0254841167,0.0110274553,-0.0385299809,-0.0088246865,-0.0397363044,-0.0163683612,0.0093275663,-0.0517088175,0.0065589496,0.0202735178,-0.0159212351,-0.0117049031,-0.0059327809,0.0383697636,-0.0041443785,0.0294257589,0.0241093952,0.0160114933,0.0451569371,-0.0330657177,0.055269666,0.0162987337,0.0061811102,-0.0459296629,-0.03316769,-0.053051766,-0.0265283734,-0.0448275767,0.0369237177,0.0147306826,-0.0230895709,-0.0227436796,0.0907221138,0.0013678891,0.0919454992,-0.0004848479,0.0492943004,-0.06835673,-0.0050608688,-0.0459915735,0.0272474922,0.0100884764,-0.0209703036,-0.1165150926,-0.0241872445]}\n"
     ]
    }
   ],
   "source": [
    "# save id and embedding as a json file\n",
    "jsonl_string = df[[\"id\", \"embedding\"]].to_json(orient=\"records\", lines=True)\n",
    "with open(\"questions.json\", \"w\") as f:\n",
    "    f.write(jsonl_string)\n",
    "\n",
    "# show the first few lines of the json file\n",
    "! head -n 3 questions.json"
   ]
  },
  {
   "cell_type": "markdown",
   "metadata": {
    "id": "-WTNJ3FAQl_W"
   },
   "source": [
    "Then, create a new Cloud Storage bucket and copy the file to it."
   ]
  },
  {
   "cell_type": "code",
   "execution_count": 14,
   "metadata": {
    "id": "CzwDWJfzAk3n",
    "tags": []
   },
   "outputs": [
    {
     "name": "stdout",
     "output_type": "stream",
     "text": [
      "Creating gs://qwiklabs-gcp-00-97154ecf82e3-embvs-tutorial-01300857/...\n",
      "Copying file://questions.json [Content-Type=application/json]...\n",
      "/ [1 files][  9.8 MiB/  9.8 MiB]                                                \n",
      "Operation completed over 1 objects/9.8 MiB.                                      \n"
     ]
    }
   ],
   "source": [
    "BUCKET_URI = f\"gs://{PROJECT_ID}-embvs-tutorial-{UID}\"\n",
    "! gsutil mb -l $LOCATION -p {PROJECT_ID} {BUCKET_URI}\n",
    "! gsutil cp questions.json {BUCKET_URI}"
   ]
  },
  {
   "cell_type": "markdown",
   "metadata": {
    "id": "xxdbjKw1XDxl"
   },
   "source": [
    "### Create an Index\n",
    "\n",
    "Now it's ready to load the embeddings to Vector Search. Its APIs are available under the [aiplatform](https://cloud.google.com/python/docs/reference/aiplatform/latest/google.cloud.aiplatform) package of the SDK."
   ]
  },
  {
   "cell_type": "code",
   "execution_count": 15,
   "metadata": {
    "id": "8unyr9KagAoI",
    "tags": []
   },
   "outputs": [],
   "source": [
    "# init the aiplatform package\n",
    "from google.cloud import aiplatform\n",
    "\n",
    "aiplatform.init(project=PROJECT_ID, location=LOCATION)"
   ]
  },
  {
   "cell_type": "markdown",
   "metadata": {
    "id": "xpMUXqWQ75uu"
   },
   "source": [
    "Create an [MatchingEngineIndex](https://cloud.google.com/python/docs/reference/aiplatform/latest/google.cloud.aiplatform.MatchingEngineIndex) with its `create_tree_ah_index` function (Matching Engine is the previous name of Vector Search)."
   ]
  },
  {
   "cell_type": "code",
   "execution_count": 16,
   "metadata": {
    "id": "kKDw5VXMkXb3",
    "tags": []
   },
   "outputs": [
    {
     "name": "stdout",
     "output_type": "stream",
     "text": [
      "Creating MatchingEngineIndex\n",
      "Create MatchingEngineIndex backing LRO: projects/266070063965/locations/us-central1/indexes/5336382928387571712/operations/3213762468106993664\n",
      "MatchingEngineIndex created. Resource name: projects/266070063965/locations/us-central1/indexes/5336382928387571712\n",
      "To use this MatchingEngineIndex in another session:\n",
      "index = aiplatform.MatchingEngineIndex('projects/266070063965/locations/us-central1/indexes/5336382928387571712')\n"
     ]
    }
   ],
   "source": [
    "# create index\n",
    "my_index = aiplatform.MatchingEngineIndex.create_tree_ah_index(\n",
    "    display_name=f\"embvs-tutorial-index-{UID}\",\n",
    "    contents_delta_uri=BUCKET_URI,\n",
    "    dimensions=768,\n",
    "    approximate_neighbors_count=20,\n",
    "    distance_measure_type=\"DOT_PRODUCT_DISTANCE\",\n",
    ")"
   ]
  },
  {
   "cell_type": "markdown",
   "metadata": {
    "id": "2rFam_w9U0dI"
   },
   "source": [
    "By calling the `create_tree_ah_index` function, it starts building an Index. This will take under a few minutes if the dataset is small, otherwise about 50 minutes or more depending on the size of the dataset. You can check status of the index creation on [the Vector Search Console > INDEXES tab](https://console.cloud.google.com/vertex-ai/matching-engine/indexes).\n",
    "\n",
    "![](https://storage.googleapis.com/github-repo/img/embeddings/vs-quickstart/creating-index.png)\n",
    "\n",
    "#### The parameters for creating index\n",
    "\n",
    "- `contents_delta_uri`: The URI of Cloud Storage directory where you stored the embedding JSON files\n",
    "- `dimensions`: Dimension size of each embedding. In this case, it is 768 as we are using the embeddings from the Text Embeddings API.\n",
    "- `approximate_neighbors_count`: how many similar items we want to retrieve in typical cases\n",
    "- `distance_measure_type`: what metrics to measure distance/similarity between embeddings. In this case it's `DOT_PRODUCT_DISTANCE`\n",
    "\n",
    "See [the document](https://cloud.google.com/vertex-ai/docs/vector-search/create-manage-index) for more details on creating Index and the parameters.\n",
    "\n",
    "#### Batch Update or Streaming Update?\n",
    "There are two types of index: Index for *Batch Update* (used in this tutorial) and Index for *Streaming Updates*. The Batch Update index can be updated with a batch process whereas the Streaming Update index can be updated in real-time. The latter one is more suited for use cases where you want to add or update each embeddings in the index more often, and crucial to serve with the latest embeddings, such as e-commerce product search.\n",
    "\n"
   ]
  },
  {
   "cell_type": "markdown",
   "metadata": {
    "id": "VLOAMF50XMI8"
   },
   "source": [
    "### Create Index Endpoint and deploy the Index\n",
    "\n",
    "To use the Index, you need to create an [Index Endpoint](https://cloud.google.com/vertex-ai/docs/vector-search/deploy-index-public). It works as a server instance accepting query requests for your Index."
   ]
  },
  {
   "cell_type": "code",
   "execution_count": 17,
   "metadata": {
    "id": "h6IzyufWCjU1",
    "tags": []
   },
   "outputs": [
    {
     "name": "stdout",
     "output_type": "stream",
     "text": [
      "Creating MatchingEngineIndexEndpoint\n",
      "Create MatchingEngineIndexEndpoint backing LRO: projects/266070063965/locations/us-central1/indexEndpoints/1170553273069862912/operations/6262699415836819456\n",
      "MatchingEngineIndexEndpoint created. Resource name: projects/266070063965/locations/us-central1/indexEndpoints/1170553273069862912\n",
      "To use this MatchingEngineIndexEndpoint in another session:\n",
      "index_endpoint = aiplatform.MatchingEngineIndexEndpoint('projects/266070063965/locations/us-central1/indexEndpoints/1170553273069862912')\n"
     ]
    }
   ],
   "source": [
    "# create IndexEndpoint\n",
    "my_index_endpoint = aiplatform.MatchingEngineIndexEndpoint.create(\n",
    "    display_name=f\"embvs-tutorial-index-endpoint-{UID}\",\n",
    "    public_endpoint_enabled=True,\n",
    ")"
   ]
  },
  {
   "cell_type": "markdown",
   "metadata": {},
   "source": [
    "This tutorial utilizes a [Public Endpoint](https://cloud.google.com/vertex-ai/docs/vector-search/setup/setup#choose-endpoint) and does not support [Virtual Private Cloud (VPC)](https://cloud.google.com/vpc/docs/private-services-access). Unless you have a specific requirement for VPC, we recommend using a Public Endpoint. Despite the term \"public\" in its name, it does not imply open access to the public internet. Rather, it functions like other endpoints in Vertex AI services, which are secured by default through IAM. Without explicit IAM permissions, as we have previously established, no one can access the endpoint."
   ]
  },
  {
   "cell_type": "markdown",
   "metadata": {
    "id": "8n33iO1T5hFO"
   },
   "source": [
    "With the Index Endpoint, deploy the Index by specifying an unique deployed index ID."
   ]
  },
  {
   "cell_type": "code",
   "execution_count": 18,
   "metadata": {
    "id": "FcBHLifGwAWq",
    "tags": []
   },
   "outputs": [],
   "source": [
    "DEPLOYED_INDEX_ID = f\"embvs_tutorial_deployed_{UID}\""
   ]
  },
  {
   "cell_type": "code",
   "execution_count": 19,
   "metadata": {
    "id": "1jUoGhY5TPFP",
    "tags": []
   },
   "outputs": [
    {
     "name": "stdout",
     "output_type": "stream",
     "text": [
      "Deploying index MatchingEngineIndexEndpoint index_endpoint: projects/266070063965/locations/us-central1/indexEndpoints/1170553273069862912\n",
      "Deploy index MatchingEngineIndexEndpoint index_endpoint backing LRO: projects/266070063965/locations/us-central1/indexEndpoints/1170553273069862912/operations/1828905582690566144\n",
      "MatchingEngineIndexEndpoint index_endpoint Deployed index. Resource name: projects/266070063965/locations/us-central1/indexEndpoints/1170553273069862912\n"
     ]
    },
    {
     "data": {
      "text/plain": [
       "<google.cloud.aiplatform.matching_engine.matching_engine_index_endpoint.MatchingEngineIndexEndpoint object at 0x7efe6ca9ec50> \n",
       "resource name: projects/266070063965/locations/us-central1/indexEndpoints/1170553273069862912"
      ]
     },
     "execution_count": 19,
     "metadata": {},
     "output_type": "execute_result"
    }
   ],
   "source": [
    "# deploy the Index to the Index Endpoint\n",
    "my_index_endpoint.deploy_index(index=my_index, deployed_index_id=DEPLOYED_INDEX_ID)"
   ]
  },
  {
   "cell_type": "markdown",
   "metadata": {
    "id": "xu9ZmWcpXQ55"
   },
   "source": [
    "If it is the first time to deploy an Index to an Index Endpoint, it will take around 25 minutes to automatically build and initiate the backend for it. After the first deployment, it will finish in seconds. To see the status of the index deployment, open [the Vector Search Console > INDEX ENDPOINTS tab](https://console.cloud.google.com/vertex-ai/matching-engine/index-endpoints) and click the Index Endpoint.\n",
    "\n",
    "<img src=\"https://storage.googleapis.com/github-repo/img/embeddings/vs-quickstart/deploying-index.png\" width=\"70%\">"
   ]
  },
  {
   "cell_type": "markdown",
   "metadata": {
    "id": "oTi4PjjbXV-O"
   },
   "source": [
    "### Run Query\n",
    "\n",
    "Finally it's ready to use Vector Search. In the following code, it creates an embedding for a test question, and find similar question with the Vector Search."
   ]
  },
  {
   "cell_type": "code",
   "execution_count": 20,
   "metadata": {
    "id": "FhNuRQqUWdfe",
    "tags": []
   },
   "outputs": [
    {
     "name": "stderr",
     "output_type": "stream",
     "text": [
      "100%|██████████| 1/1 [00:01<00:00,  1.07s/it]\n"
     ]
    }
   ],
   "source": [
    "test_embeddings = get_embeddings_wrapper([\"How to read JSON with Python?\"])"
   ]
  },
  {
   "cell_type": "code",
   "execution_count": 22,
   "metadata": {
    "id": "Q01DGMBPXAg-",
    "tags": []
   },
   "outputs": [
    {
     "name": "stdout",
     "output_type": "stream",
     "text": [
      "0.7478 How to get a one list for the keys and and another for the values of a dictionary in python?\n",
      "0.7464 How do I access django join table data?\n",
      "0.7438 How to convert JSON to HTML using PHP?\n",
      "0.7183 JSON Settings editor in JupyterLab not working?\n",
      "0.7069 python Twitch-chatbot MONKALOT encounters json error on startup\n",
      "0.7050 Nested Json Array not handled by pandas dataframe / pd.json_normalize\n",
      "0.7034 What is the correct way of editing a specific value in a json file?\n",
      "0.6865 Python Pandas json_normalize with multiple lists of dicts\n",
      "0.6835 NoMethodError: Unable to access the field over an array of hashes from an HTTP response\n",
      "0.6810 How to collect data from MongoDB in Android Studio?\n",
      "0.6690 How to scrape all URLs using Scrapy?\n",
      "0.6668 Capturing a specific webpage or url (python)\n",
      "0.6639 How to import data file from the S3 bucket into the Sagemaker notebook?\n",
      "0.6554 Why can PowerShell not run Python with activated environment, but runs when environment is deactivated?\n",
      "0.6534 How to query bytearray data in pandas dataframe using duckdb?\n",
      "0.6488 Instagram reels downloader using Python\n",
      "0.6467 how to join 2 related tables using postgres functions?\n",
      "0.6463 What am I doing wrong with React context?\n",
      "0.6424 How read external data from different server with golem shiny app?\n",
      "0.6417 Web scraping IMDB with Python's Beautiful Soup\n"
     ]
    }
   ],
   "source": [
    "# Test query\n",
    "response = my_index_endpoint.find_neighbors(\n",
    "    deployed_index_id=DEPLOYED_INDEX_ID,\n",
    "    queries=test_embeddings,\n",
    "    num_neighbors=20,\n",
    ")\n",
    "\n",
    "# show the result\n",
    "import numpy as np\n",
    "\n",
    "for idx, neighbor in enumerate(response[0]):\n",
    "    id = np.int64(neighbor.id)\n",
    "    similar = df.query(\"id == @id\", engine=\"python\")\n",
    "    print(f\"{neighbor.distance:.4f} {similar.title.values[0]}\")"
   ]
  },
  {
   "cell_type": "markdown",
   "metadata": {
    "id": "tPDOL9caoYZ9"
   },
   "source": [
    "The `find_neighbors` function only takes milliseconds to fetch the similar items even when you have billions of items on the Index, thanks to the ScaNN algorithm. Vector Search also supports [autoscaling](https://cloud.google.com/vertex-ai/docs/vector-search/deploy-index-public#autoscaling) which can automatically resize the number of nodes based on the demands of your workloads."
   ]
  },
  {
   "cell_type": "markdown",
   "metadata": {
    "id": "DDt4D6FDyc66"
   },
   "source": [
    "# IMPORTANT: Cleaning Up\n",
    "\n",
    "In case you are using your own Cloud project, not a temporary project on Qwiklab, please make sure to delete all the Indexes, Index Endpoints and Cloud Storage buckets after finishing this tutorial. Otherwise the remaining objects would **incur unexpected costs**.\n",
    "\n",
    "If you used Workbench, you may also need to delete the Notebooks from [the console](https://console.cloud.google.com/vertex-ai/workbench)."
   ]
  },
  {
   "cell_type": "code",
   "execution_count": 23,
   "metadata": {
    "id": "MEsKVzguyxNx",
    "tags": []
   },
   "outputs": [
    {
     "name": "stdin",
     "output_type": "stream",
     "text": [
      "Press Enter to delete Index Endpoint, Index and Cloud Storage bucket: \n"
     ]
    },
    {
     "name": "stdout",
     "output_type": "stream",
     "text": [
      "Undeploying MatchingEngineIndexEndpoint index_endpoint: projects/266070063965/locations/us-central1/indexEndpoints/1170553273069862912\n",
      "Undeploy MatchingEngineIndexEndpoint index_endpoint backing LRO: projects/266070063965/locations/us-central1/indexEndpoints/1170553273069862912/operations/4762437789969022976\n",
      "MatchingEngineIndexEndpoint index_endpoint undeployed. Resource name: projects/266070063965/locations/us-central1/indexEndpoints/1170553273069862912\n",
      "Deleting MatchingEngineIndexEndpoint : projects/266070063965/locations/us-central1/indexEndpoints/1170553273069862912\n",
      "Delete MatchingEngineIndexEndpoint  backing LRO: projects/266070063965/locations/us-central1/operations/4258034631703527424\n",
      "MatchingEngineIndexEndpoint deleted. . Resource name: projects/266070063965/locations/us-central1/indexEndpoints/1170553273069862912\n",
      "Deleting MatchingEngineIndex : projects/266070063965/locations/us-central1/indexes/5336382928387571712\n",
      "Delete MatchingEngineIndex  backing LRO: projects/266070063965/locations/us-central1/indexes/5336382928387571712/operations/4068320497400545280\n",
      "MatchingEngineIndex deleted. . Resource name: projects/266070063965/locations/us-central1/indexes/5336382928387571712\n",
      "Removing gs://qwiklabs-gcp-00-97154ecf82e3-embvs-tutorial-01300857/questions.json#1706605854089973...\n",
      "/ [1 objects]                                                                   \n",
      "Operation completed over 1 objects.                                              \n",
      "Removing gs://qwiklabs-gcp-00-97154ecf82e3-embvs-tutorial-01300857/...\n"
     ]
    }
   ],
   "source": [
    "# wait for a confirmation\n",
    "input(\"Press Enter to delete Index Endpoint, Index and Cloud Storage bucket:\")\n",
    "\n",
    "# delete Index Endpoint\n",
    "\n",
    "my_index_endpoint.undeploy_all()\n",
    "my_index_endpoint.delete(force=True)\n",
    "\n",
    "# delete Index\n",
    "my_index.delete()\n",
    "\n",
    "# delete Cloud Storage bucket\n",
    "! gsutil rm -r {BUCKET_URI}"
   ]
  },
  {
   "cell_type": "markdown",
   "metadata": {
    "id": "b8k26QOF3Ys7"
   },
   "source": [
    "# Summary\n",
    "\n",
    "## Grounding LLM outputs with Vertex AI Vector Search\n",
    "\n",
    "As we have seen, by combining the Embeddings API and Vector Search, you can use the embeddings to \"ground\" LLM outputs to real business data with low latency.\n",
    "\n",
    "For example, if an user asks a question, Embeddings API can convert it to an embedding, and issue an query on Vector Search to find similar embeddings in its index. Those embeddings represent the actual business data in the databases. As we are just retrieving the business data and not generating any artificial texts, there is no risk of having hallucinations in the result.\n",
    "\n",
    "![](https://storage.googleapis.com/gweb-cloudblog-publish/original_images/10._grounding.png)\n",
    "\n",
    "### The difference between the questions and answers\n",
    "\n",
    "In this tutorial, we have used the Stack Overflow dataset. There is a reason why we had to use it; As the dataset has many pairs of **questions and answers**, so you can just find quesions similar to your question to find answers to it.\n",
    "\n",
    "In many business use cases, the semantics (meaning) of questions and answers are different. Also, there could be cases where you would want to add variety of recommended or personalized items to the results, like product search on e-commerce sites.\n",
    "\n",
    "In these cases, the simple semantics search don't work well. It's more like a recommendation system problem where you may want to train a model (e.g. Two-Tower model) to learn the relationship between the question embedding space and answer embedding space. Also, many production systems adds reranking phase after the semantic search to achieve higher search quality. Please see [Scaling deep retrieval with TensorFlow Recommenders and Vertex AI Matching Engine](https://cloud.google.com/blog/products/ai-machine-learning/scaling-deep-retrieval-tensorflow-two-towers-architecture) to learn more.\n",
    "\n",
    "### Hybrid of semantic + keyword search\n",
    "\n",
    "Another typical challenge you will face in production system is to support keyword search combined with the semantic search. For example, for e-commerce product search, you may want to let users find product by entering its product name or model number. As LLM doesn't memorize those product names or model numbers, semantic search can't handle those \"usual\" search functionalities.\n",
    "\n",
    "[Vertex AI Search](https://cloud.google.com/blog/products/ai-machine-learning/vertex-ai-search-and-conversation-is-now-generally-available) is another product you may consider for those requirements. While Vector Search provides a simple semantic search capability only, Search provides a integrated search solution that combines semantic search, keyword search, reranking and filtering, available as an out-of-the-box tool.\n",
    "\n",
    "### What about Retrieval Augmented Generation (RAG)?\n",
    "\n",
    "In this tutorial, we have looked at the simple combination of LLM embeddings and vector search. From this starting point, you may also extend the design to [Retrieval Augmented Generation (RAG)](https://www.google.com/search?q=Retrieval+Augmented+Generation+(RAG)&oq=Retrieval+Augmented+Generation+(RAG)).\n",
    "\n",
    "RAG is a popular architecture pattern of implementing grounding with LLM with text chat UI. The idea is to have the LLM text chat UI as a frontend for the document retrieval with vector search and summarization of the result.\n",
    "\n",
    "![](https://storage.googleapis.com/gweb-cloudblog-publish/images/Figure-7-Ask_Your_Documents_Flow.max-529x434.png)\n",
    "\n",
    "There are some pros and cons between the two solutions.\n",
    "\n",
    "| | Emb + vector search | RAG |\n",
    "|---|---|---|\n",
    "| Design | simple | complex |\n",
    "| UI | Text search UI | Text chat UI |\n",
    "| Summarization of result | No | Yes |\n",
    "| Multi-turn (Context aware) | No | Yes |\n",
    "| Latency | millisecs | seconds |\n",
    "| Cost | lower | higher |\n",
    "| Hallucinations | No risk | Some risk |\n",
    "\n",
    "The Embedding + vector search pattern we have looked at with this tutorial provides simple, fast and low cost semantic search functionality with the LLM intelligence. RAG adds context-aware text chat experience and result summarization to it. While RAG provides the more \"Gen AI-ish\" experience, it also adds a risk of hallucination and higher cost and time for the text generation.\n",
    "\n",
    "To learn more about how to build a RAG solution, you may look at [Building Generative AI applications made easy with Vertex AI PaLM API and LangChain](https://cloud.google.com/blog/products/ai-machine-learning/generative-ai-applications-with-vertex-ai-palm-2-models-and-langchain).\n",
    "\n",
    "## Resources\n",
    "\n",
    "To learn more, please check out the following resources:\n",
    "\n",
    "### Documentations\n",
    "\n",
    "[Vertex AI Embeddings for Text API documentation\n",
    "](https://cloud.google.com/vertex-ai/docs/generative-ai/embeddings/get-text-embeddings)\n",
    "\n",
    "[Vector Search documentation](https://cloud.google.com/vertex-ai/docs/matching-engine/overview)\n",
    "\n",
    "### Vector Search blog posts\n",
    "\n",
    "[Vertex Matching Engine: Blazing fast and massively scalable nearest neighbor search](https://cloud.google.com/blog/products/ai-machine-learning/vertex-matching-engine-blazing-fast-and-massively-scalable-nearest-neighbor-search)\n",
    "\n",
    "[Find anything blazingly fast with Google's vector search technology](https://cloud.google.com/blog/topics/developers-practitioners/find-anything-blazingly-fast-googles-vector-search-technology)\n",
    "\n",
    "[Enabling real-time AI with Streaming Ingestion in Vertex AI](https://cloud.google.com/blog/products/ai-machine-learning/real-time-ai-with-google-cloud-vertex-ai)\n",
    "\n",
    "[Mercari leverages Google's vector search technology to create a new marketplace](https://cloud.google.com/blog/topics/developers-practitioners/mercari-leverages-googles-vector-search-technology-create-new-marketplace)\n",
    "\n",
    "[Recommending news articles using Vertex AI Matching Engine](https://cloud.google.com/blog/products/ai-machine-learning/recommending-articles-using-vertex-ai-matching-engine)\n",
    "\n",
    "[What is Multimodal Search: \"LLMs with vision\" change businesses](https://cloud.google.com/blog/products/ai-machine-learning/multimodal-generative-ai-search)"
   ]
  },
  {
   "cell_type": "markdown",
   "metadata": {
    "id": "BE1tELsH-u8N"
   },
   "source": [
    "# Utilities\n",
    "\n",
    "Sometimes it takes tens of minutes to create or deploy Indexes and you would lose connection with the Colab runtime. In that case, instead of creating or deploying new Index again, you can check [the Vector Search Console](https://console.cloud.google.com/vertex-ai/matching-engine/index-endpoints) and get the existing ones to continue."
   ]
  },
  {
   "cell_type": "markdown",
   "metadata": {
    "id": "wF_pkdpJ-yaq"
   },
   "source": [
    "## Get an existing Index\n",
    "\n",
    "To get an Index object that already exists, replace the following `[your-index-id]` with the index ID and run the cell. You can check the ID on [the Vector Search Console > INDEXES tab](https://console.cloud.google.com/vertex-ai/matching-engine/indexes)."
   ]
  },
  {
   "cell_type": "code",
   "execution_count": 27,
   "metadata": {
    "id": "mEBkZZt_-0jG",
    "tags": []
   },
   "outputs": [
    {
     "ename": "ValueError",
     "evalue": "Resource [your-index-id] is not a valid resource id.",
     "output_type": "error",
     "traceback": [
      "\u001b[0;31m---------------------------------------------------------------------------\u001b[0m",
      "\u001b[0;31mValueError\u001b[0m                                Traceback (most recent call last)",
      "Cell \u001b[0;32mIn[27], line 2\u001b[0m\n\u001b[1;32m      1\u001b[0m my_index_id \u001b[38;5;241m=\u001b[39m \u001b[38;5;124m\"\u001b[39m\u001b[38;5;124m[your-index-id]\u001b[39m\u001b[38;5;124m\"\u001b[39m  \u001b[38;5;66;03m# @param {type:\"string\"}\u001b[39;00m\n\u001b[0;32m----> 2\u001b[0m my_index \u001b[38;5;241m=\u001b[39m \u001b[43maiplatform\u001b[49m\u001b[38;5;241;43m.\u001b[39;49m\u001b[43mMatchingEngineIndex\u001b[49m\u001b[43m(\u001b[49m\u001b[43mmy_index_id\u001b[49m\u001b[43m)\u001b[49m\n",
      "File \u001b[0;32m~/.local/lib/python3.10/site-packages/google/cloud/aiplatform/matching_engine/matching_engine_index.py:91\u001b[0m, in \u001b[0;36mMatchingEngineIndex.__init__\u001b[0;34m(self, index_name, project, location, credentials)\u001b[0m\n\u001b[1;32m     57\u001b[0m \u001b[38;5;250m\u001b[39m\u001b[38;5;124;03m\"\"\"Retrieves an existing index given an index name or ID.\u001b[39;00m\n\u001b[1;32m     58\u001b[0m \n\u001b[1;32m     59\u001b[0m \u001b[38;5;124;03mExample Usage:\u001b[39;00m\n\u001b[0;32m   (...)\u001b[0m\n\u001b[1;32m     82\u001b[0m \u001b[38;5;124;03m        credentials set in aiplatform.init.\u001b[39;00m\n\u001b[1;32m     83\u001b[0m \u001b[38;5;124;03m\"\"\"\u001b[39;00m\n\u001b[1;32m     85\u001b[0m \u001b[38;5;28msuper\u001b[39m()\u001b[38;5;241m.\u001b[39m\u001b[38;5;21m__init__\u001b[39m(\n\u001b[1;32m     86\u001b[0m     project\u001b[38;5;241m=\u001b[39mproject,\n\u001b[1;32m     87\u001b[0m     location\u001b[38;5;241m=\u001b[39mlocation,\n\u001b[1;32m     88\u001b[0m     credentials\u001b[38;5;241m=\u001b[39mcredentials,\n\u001b[1;32m     89\u001b[0m     resource_name\u001b[38;5;241m=\u001b[39mindex_name,\n\u001b[1;32m     90\u001b[0m )\n\u001b[0;32m---> 91\u001b[0m \u001b[38;5;28mself\u001b[39m\u001b[38;5;241m.\u001b[39m_gca_resource \u001b[38;5;241m=\u001b[39m \u001b[38;5;28;43mself\u001b[39;49m\u001b[38;5;241;43m.\u001b[39;49m\u001b[43m_get_gca_resource\u001b[49m\u001b[43m(\u001b[49m\u001b[43mresource_name\u001b[49m\u001b[38;5;241;43m=\u001b[39;49m\u001b[43mindex_name\u001b[49m\u001b[43m)\u001b[49m\n",
      "File \u001b[0;32m~/.local/lib/python3.10/site-packages/google/cloud/aiplatform/base.py:635\u001b[0m, in \u001b[0;36mVertexAiResourceNoun._get_gca_resource\u001b[0;34m(self, resource_name, parent_resource_name_fields)\u001b[0m\n\u001b[1;32m    621\u001b[0m \u001b[38;5;28;01mdef\u001b[39;00m \u001b[38;5;21m_get_gca_resource\u001b[39m(\n\u001b[1;32m    622\u001b[0m     \u001b[38;5;28mself\u001b[39m,\n\u001b[1;32m    623\u001b[0m     resource_name: \u001b[38;5;28mstr\u001b[39m,\n\u001b[1;32m    624\u001b[0m     parent_resource_name_fields: Optional[Dict[\u001b[38;5;28mstr\u001b[39m, \u001b[38;5;28mstr\u001b[39m]] \u001b[38;5;241m=\u001b[39m \u001b[38;5;28;01mNone\u001b[39;00m,\n\u001b[1;32m    625\u001b[0m ) \u001b[38;5;241m-\u001b[39m\u001b[38;5;241m>\u001b[39m proto\u001b[38;5;241m.\u001b[39mMessage:\n\u001b[1;32m    626\u001b[0m \u001b[38;5;250m    \u001b[39m\u001b[38;5;124;03m\"\"\"Returns GAPIC service representation of client class resource.\u001b[39;00m\n\u001b[1;32m    627\u001b[0m \n\u001b[1;32m    628\u001b[0m \u001b[38;5;124;03m    Args:\u001b[39;00m\n\u001b[0;32m   (...)\u001b[0m\n\u001b[1;32m    633\u001b[0m \u001b[38;5;124;03m            Should not include project and location.\u001b[39;00m\n\u001b[1;32m    634\u001b[0m \u001b[38;5;124;03m    \"\"\"\u001b[39;00m\n\u001b[0;32m--> 635\u001b[0m     resource_name \u001b[38;5;241m=\u001b[39m \u001b[43mutils\u001b[49m\u001b[38;5;241;43m.\u001b[39;49m\u001b[43mfull_resource_name\u001b[49m\u001b[43m(\u001b[49m\n\u001b[1;32m    636\u001b[0m \u001b[43m        \u001b[49m\u001b[43mresource_name\u001b[49m\u001b[38;5;241;43m=\u001b[39;49m\u001b[43mresource_name\u001b[49m\u001b[43m,\u001b[49m\n\u001b[1;32m    637\u001b[0m \u001b[43m        \u001b[49m\u001b[43mresource_noun\u001b[49m\u001b[38;5;241;43m=\u001b[39;49m\u001b[38;5;28;43mself\u001b[39;49m\u001b[38;5;241;43m.\u001b[39;49m\u001b[43m_resource_noun\u001b[49m\u001b[43m,\u001b[49m\n\u001b[1;32m    638\u001b[0m \u001b[43m        \u001b[49m\u001b[43mparse_resource_name_method\u001b[49m\u001b[38;5;241;43m=\u001b[39;49m\u001b[38;5;28;43mself\u001b[39;49m\u001b[38;5;241;43m.\u001b[39;49m\u001b[43m_parse_resource_name\u001b[49m\u001b[43m,\u001b[49m\n\u001b[1;32m    639\u001b[0m \u001b[43m        \u001b[49m\u001b[43mformat_resource_name_method\u001b[49m\u001b[38;5;241;43m=\u001b[39;49m\u001b[38;5;28;43mself\u001b[39;49m\u001b[38;5;241;43m.\u001b[39;49m\u001b[43m_format_resource_name\u001b[49m\u001b[43m,\u001b[49m\n\u001b[1;32m    640\u001b[0m \u001b[43m        \u001b[49m\u001b[43mproject\u001b[49m\u001b[38;5;241;43m=\u001b[39;49m\u001b[38;5;28;43mself\u001b[39;49m\u001b[38;5;241;43m.\u001b[39;49m\u001b[43mproject\u001b[49m\u001b[43m,\u001b[49m\n\u001b[1;32m    641\u001b[0m \u001b[43m        \u001b[49m\u001b[43mlocation\u001b[49m\u001b[38;5;241;43m=\u001b[39;49m\u001b[38;5;28;43mself\u001b[39;49m\u001b[38;5;241;43m.\u001b[39;49m\u001b[43mlocation\u001b[49m\u001b[43m,\u001b[49m\n\u001b[1;32m    642\u001b[0m \u001b[43m        \u001b[49m\u001b[43mparent_resource_name_fields\u001b[49m\u001b[38;5;241;43m=\u001b[39;49m\u001b[43mparent_resource_name_fields\u001b[49m\u001b[43m,\u001b[49m\n\u001b[1;32m    643\u001b[0m \u001b[43m        \u001b[49m\u001b[43mresource_id_validator\u001b[49m\u001b[38;5;241;43m=\u001b[39;49m\u001b[38;5;28;43mself\u001b[39;49m\u001b[38;5;241;43m.\u001b[39;49m\u001b[43m_resource_id_validator\u001b[49m\u001b[43m,\u001b[49m\n\u001b[1;32m    644\u001b[0m \u001b[43m    \u001b[49m\u001b[43m)\u001b[49m\n\u001b[1;32m    646\u001b[0m     \u001b[38;5;28;01mreturn\u001b[39;00m \u001b[38;5;28mgetattr\u001b[39m(\u001b[38;5;28mself\u001b[39m\u001b[38;5;241m.\u001b[39mapi_client, \u001b[38;5;28mself\u001b[39m\u001b[38;5;241m.\u001b[39m_getter_method)(\n\u001b[1;32m    647\u001b[0m         name\u001b[38;5;241m=\u001b[39mresource_name, retry\u001b[38;5;241m=\u001b[39m_DEFAULT_RETRY\n\u001b[1;32m    648\u001b[0m     )\n",
      "File \u001b[0;32m~/.local/lib/python3.10/site-packages/google/cloud/aiplatform/utils/__init__.py:194\u001b[0m, in \u001b[0;36mfull_resource_name\u001b[0;34m(resource_name, resource_noun, parse_resource_name_method, format_resource_name_method, parent_resource_name_fields, project, location, resource_id_validator)\u001b[0m\n\u001b[1;32m    191\u001b[0m user_location \u001b[38;5;241m=\u001b[39m location \u001b[38;5;129;01mor\u001b[39;00m initializer\u001b[38;5;241m.\u001b[39mglobal_config\u001b[38;5;241m.\u001b[39mlocation\n\u001b[1;32m    193\u001b[0m validate_region(user_location)\n\u001b[0;32m--> 194\u001b[0m \u001b[43mresource_id_validator\u001b[49m\u001b[43m(\u001b[49m\u001b[43mresource_name\u001b[49m\u001b[43m)\u001b[49m\n\u001b[1;32m    196\u001b[0m format_args \u001b[38;5;241m=\u001b[39m {\n\u001b[1;32m    197\u001b[0m     \u001b[38;5;124m\"\u001b[39m\u001b[38;5;124mlocation\u001b[39m\u001b[38;5;124m\"\u001b[39m: user_location,\n\u001b[1;32m    198\u001b[0m     \u001b[38;5;124m\"\u001b[39m\u001b[38;5;124mproject\u001b[39m\u001b[38;5;124m\"\u001b[39m: user_project,\n\u001b[1;32m    199\u001b[0m     convert_camel_case_resource_noun_to_snake_case(resource_noun): resource_name,\n\u001b[1;32m    200\u001b[0m }\n\u001b[1;32m    202\u001b[0m \u001b[38;5;28;01mif\u001b[39;00m parent_resource_name_fields:\n",
      "File \u001b[0;32m~/.local/lib/python3.10/site-packages/google/cloud/aiplatform/utils/__init__.py:132\u001b[0m, in \u001b[0;36mvalidate_id\u001b[0;34m(resource_id)\u001b[0m\n\u001b[1;32m    123\u001b[0m \u001b[38;5;250m\u001b[39m\u001b[38;5;124;03m\"\"\"Validate resource ID.\u001b[39;00m\n\u001b[1;32m    124\u001b[0m \n\u001b[1;32m    125\u001b[0m \u001b[38;5;124;03mArgs:\u001b[39;00m\n\u001b[0;32m   (...)\u001b[0m\n\u001b[1;32m    129\u001b[0m \n\u001b[1;32m    130\u001b[0m \u001b[38;5;124;03m\"\"\"\u001b[39;00m\n\u001b[1;32m    131\u001b[0m \u001b[38;5;28;01mif\u001b[39;00m \u001b[38;5;129;01mnot\u001b[39;00m RESOURCE_ID_PATTERN\u001b[38;5;241m.\u001b[39mmatch(resource_id):\n\u001b[0;32m--> 132\u001b[0m     \u001b[38;5;28;01mraise\u001b[39;00m \u001b[38;5;167;01mValueError\u001b[39;00m(\u001b[38;5;124mf\u001b[39m\u001b[38;5;124m\"\u001b[39m\u001b[38;5;124mResource \u001b[39m\u001b[38;5;132;01m{\u001b[39;00mresource_id\u001b[38;5;132;01m}\u001b[39;00m\u001b[38;5;124m is not a valid resource id.\u001b[39m\u001b[38;5;124m\"\u001b[39m)\n",
      "\u001b[0;31mValueError\u001b[0m: Resource [your-index-id] is not a valid resource id."
     ]
    }
   ],
   "source": [
    "my_index_id = \"[your-index-id]\"  # @param {type:\"string\"}\n",
    "my_index = aiplatform.MatchingEngineIndex(my_index_id)"
   ]
  },
  {
   "cell_type": "markdown",
   "metadata": {
    "id": "_vlgzkyw-3CI"
   },
   "source": [
    "## Get an existing Index Endpoint\n",
    "\n",
    "To get an Index Endpoint object that already exists, replace the following `[your-index-endpoint-id]` with the Index Endpoint ID and run the cell. You can check the ID on [the Vector Search Console > INDEX ENDPOINTS tab](https://console.cloud.google.com/vertex-ai/matching-engine/index-endpoints)."
   ]
  },
  {
   "cell_type": "code",
   "execution_count": 28,
   "metadata": {
    "id": "E0OFnirF-6Rk",
    "tags": []
   },
   "outputs": [
    {
     "ename": "ValueError",
     "evalue": "Resource [your-index-endpoint-id] is not a valid resource id.",
     "output_type": "error",
     "traceback": [
      "\u001b[0;31m---------------------------------------------------------------------------\u001b[0m",
      "\u001b[0;31mValueError\u001b[0m                                Traceback (most recent call last)",
      "Cell \u001b[0;32mIn[28], line 2\u001b[0m\n\u001b[1;32m      1\u001b[0m my_index_endpoint_id \u001b[38;5;241m=\u001b[39m \u001b[38;5;124m\"\u001b[39m\u001b[38;5;124m[your-index-endpoint-id]\u001b[39m\u001b[38;5;124m\"\u001b[39m  \u001b[38;5;66;03m# @param {type:\"string\"}\u001b[39;00m\n\u001b[0;32m----> 2\u001b[0m my_index_endpoint \u001b[38;5;241m=\u001b[39m \u001b[43maiplatform\u001b[49m\u001b[38;5;241;43m.\u001b[39;49m\u001b[43mMatchingEngineIndexEndpoint\u001b[49m\u001b[43m(\u001b[49m\u001b[43mmy_index_endpoint_id\u001b[49m\u001b[43m)\u001b[49m\n",
      "File \u001b[0;32m~/.local/lib/python3.10/site-packages/google/cloud/aiplatform/matching_engine/matching_engine_index_endpoint.py:220\u001b[0m, in \u001b[0;36mMatchingEngineIndexEndpoint.__init__\u001b[0;34m(self, index_endpoint_name, project, location, credentials)\u001b[0m\n\u001b[1;32m    186\u001b[0m \u001b[38;5;250m\u001b[39m\u001b[38;5;124;03m\"\"\"Retrieves an existing index endpoint given a name or ID.\u001b[39;00m\n\u001b[1;32m    187\u001b[0m \n\u001b[1;32m    188\u001b[0m \u001b[38;5;124;03mExample Usage:\u001b[39;00m\n\u001b[0;32m   (...)\u001b[0m\n\u001b[1;32m    211\u001b[0m \u001b[38;5;124;03m        credentials set in aiplatform.init.\u001b[39;00m\n\u001b[1;32m    212\u001b[0m \u001b[38;5;124;03m\"\"\"\u001b[39;00m\n\u001b[1;32m    214\u001b[0m \u001b[38;5;28msuper\u001b[39m()\u001b[38;5;241m.\u001b[39m\u001b[38;5;21m__init__\u001b[39m(\n\u001b[1;32m    215\u001b[0m     project\u001b[38;5;241m=\u001b[39mproject,\n\u001b[1;32m    216\u001b[0m     location\u001b[38;5;241m=\u001b[39mlocation,\n\u001b[1;32m    217\u001b[0m     credentials\u001b[38;5;241m=\u001b[39mcredentials,\n\u001b[1;32m    218\u001b[0m     resource_name\u001b[38;5;241m=\u001b[39mindex_endpoint_name,\n\u001b[1;32m    219\u001b[0m )\n\u001b[0;32m--> 220\u001b[0m \u001b[38;5;28mself\u001b[39m\u001b[38;5;241m.\u001b[39m_gca_resource \u001b[38;5;241m=\u001b[39m \u001b[38;5;28;43mself\u001b[39;49m\u001b[38;5;241;43m.\u001b[39;49m\u001b[43m_get_gca_resource\u001b[49m\u001b[43m(\u001b[49m\u001b[43mresource_name\u001b[49m\u001b[38;5;241;43m=\u001b[39;49m\u001b[43mindex_endpoint_name\u001b[49m\u001b[43m)\u001b[49m\n\u001b[1;32m    222\u001b[0m \u001b[38;5;28mself\u001b[39m\u001b[38;5;241m.\u001b[39m_public_match_client \u001b[38;5;241m=\u001b[39m \u001b[38;5;28;01mNone\u001b[39;00m\n\u001b[1;32m    223\u001b[0m \u001b[38;5;28;01mif\u001b[39;00m \u001b[38;5;28mself\u001b[39m\u001b[38;5;241m.\u001b[39mpublic_endpoint_domain_name:\n",
      "File \u001b[0;32m~/.local/lib/python3.10/site-packages/google/cloud/aiplatform/base.py:635\u001b[0m, in \u001b[0;36mVertexAiResourceNoun._get_gca_resource\u001b[0;34m(self, resource_name, parent_resource_name_fields)\u001b[0m\n\u001b[1;32m    621\u001b[0m \u001b[38;5;28;01mdef\u001b[39;00m \u001b[38;5;21m_get_gca_resource\u001b[39m(\n\u001b[1;32m    622\u001b[0m     \u001b[38;5;28mself\u001b[39m,\n\u001b[1;32m    623\u001b[0m     resource_name: \u001b[38;5;28mstr\u001b[39m,\n\u001b[1;32m    624\u001b[0m     parent_resource_name_fields: Optional[Dict[\u001b[38;5;28mstr\u001b[39m, \u001b[38;5;28mstr\u001b[39m]] \u001b[38;5;241m=\u001b[39m \u001b[38;5;28;01mNone\u001b[39;00m,\n\u001b[1;32m    625\u001b[0m ) \u001b[38;5;241m-\u001b[39m\u001b[38;5;241m>\u001b[39m proto\u001b[38;5;241m.\u001b[39mMessage:\n\u001b[1;32m    626\u001b[0m \u001b[38;5;250m    \u001b[39m\u001b[38;5;124;03m\"\"\"Returns GAPIC service representation of client class resource.\u001b[39;00m\n\u001b[1;32m    627\u001b[0m \n\u001b[1;32m    628\u001b[0m \u001b[38;5;124;03m    Args:\u001b[39;00m\n\u001b[0;32m   (...)\u001b[0m\n\u001b[1;32m    633\u001b[0m \u001b[38;5;124;03m            Should not include project and location.\u001b[39;00m\n\u001b[1;32m    634\u001b[0m \u001b[38;5;124;03m    \"\"\"\u001b[39;00m\n\u001b[0;32m--> 635\u001b[0m     resource_name \u001b[38;5;241m=\u001b[39m \u001b[43mutils\u001b[49m\u001b[38;5;241;43m.\u001b[39;49m\u001b[43mfull_resource_name\u001b[49m\u001b[43m(\u001b[49m\n\u001b[1;32m    636\u001b[0m \u001b[43m        \u001b[49m\u001b[43mresource_name\u001b[49m\u001b[38;5;241;43m=\u001b[39;49m\u001b[43mresource_name\u001b[49m\u001b[43m,\u001b[49m\n\u001b[1;32m    637\u001b[0m \u001b[43m        \u001b[49m\u001b[43mresource_noun\u001b[49m\u001b[38;5;241;43m=\u001b[39;49m\u001b[38;5;28;43mself\u001b[39;49m\u001b[38;5;241;43m.\u001b[39;49m\u001b[43m_resource_noun\u001b[49m\u001b[43m,\u001b[49m\n\u001b[1;32m    638\u001b[0m \u001b[43m        \u001b[49m\u001b[43mparse_resource_name_method\u001b[49m\u001b[38;5;241;43m=\u001b[39;49m\u001b[38;5;28;43mself\u001b[39;49m\u001b[38;5;241;43m.\u001b[39;49m\u001b[43m_parse_resource_name\u001b[49m\u001b[43m,\u001b[49m\n\u001b[1;32m    639\u001b[0m \u001b[43m        \u001b[49m\u001b[43mformat_resource_name_method\u001b[49m\u001b[38;5;241;43m=\u001b[39;49m\u001b[38;5;28;43mself\u001b[39;49m\u001b[38;5;241;43m.\u001b[39;49m\u001b[43m_format_resource_name\u001b[49m\u001b[43m,\u001b[49m\n\u001b[1;32m    640\u001b[0m \u001b[43m        \u001b[49m\u001b[43mproject\u001b[49m\u001b[38;5;241;43m=\u001b[39;49m\u001b[38;5;28;43mself\u001b[39;49m\u001b[38;5;241;43m.\u001b[39;49m\u001b[43mproject\u001b[49m\u001b[43m,\u001b[49m\n\u001b[1;32m    641\u001b[0m \u001b[43m        \u001b[49m\u001b[43mlocation\u001b[49m\u001b[38;5;241;43m=\u001b[39;49m\u001b[38;5;28;43mself\u001b[39;49m\u001b[38;5;241;43m.\u001b[39;49m\u001b[43mlocation\u001b[49m\u001b[43m,\u001b[49m\n\u001b[1;32m    642\u001b[0m \u001b[43m        \u001b[49m\u001b[43mparent_resource_name_fields\u001b[49m\u001b[38;5;241;43m=\u001b[39;49m\u001b[43mparent_resource_name_fields\u001b[49m\u001b[43m,\u001b[49m\n\u001b[1;32m    643\u001b[0m \u001b[43m        \u001b[49m\u001b[43mresource_id_validator\u001b[49m\u001b[38;5;241;43m=\u001b[39;49m\u001b[38;5;28;43mself\u001b[39;49m\u001b[38;5;241;43m.\u001b[39;49m\u001b[43m_resource_id_validator\u001b[49m\u001b[43m,\u001b[49m\n\u001b[1;32m    644\u001b[0m \u001b[43m    \u001b[49m\u001b[43m)\u001b[49m\n\u001b[1;32m    646\u001b[0m     \u001b[38;5;28;01mreturn\u001b[39;00m \u001b[38;5;28mgetattr\u001b[39m(\u001b[38;5;28mself\u001b[39m\u001b[38;5;241m.\u001b[39mapi_client, \u001b[38;5;28mself\u001b[39m\u001b[38;5;241m.\u001b[39m_getter_method)(\n\u001b[1;32m    647\u001b[0m         name\u001b[38;5;241m=\u001b[39mresource_name, retry\u001b[38;5;241m=\u001b[39m_DEFAULT_RETRY\n\u001b[1;32m    648\u001b[0m     )\n",
      "File \u001b[0;32m~/.local/lib/python3.10/site-packages/google/cloud/aiplatform/utils/__init__.py:194\u001b[0m, in \u001b[0;36mfull_resource_name\u001b[0;34m(resource_name, resource_noun, parse_resource_name_method, format_resource_name_method, parent_resource_name_fields, project, location, resource_id_validator)\u001b[0m\n\u001b[1;32m    191\u001b[0m user_location \u001b[38;5;241m=\u001b[39m location \u001b[38;5;129;01mor\u001b[39;00m initializer\u001b[38;5;241m.\u001b[39mglobal_config\u001b[38;5;241m.\u001b[39mlocation\n\u001b[1;32m    193\u001b[0m validate_region(user_location)\n\u001b[0;32m--> 194\u001b[0m \u001b[43mresource_id_validator\u001b[49m\u001b[43m(\u001b[49m\u001b[43mresource_name\u001b[49m\u001b[43m)\u001b[49m\n\u001b[1;32m    196\u001b[0m format_args \u001b[38;5;241m=\u001b[39m {\n\u001b[1;32m    197\u001b[0m     \u001b[38;5;124m\"\u001b[39m\u001b[38;5;124mlocation\u001b[39m\u001b[38;5;124m\"\u001b[39m: user_location,\n\u001b[1;32m    198\u001b[0m     \u001b[38;5;124m\"\u001b[39m\u001b[38;5;124mproject\u001b[39m\u001b[38;5;124m\"\u001b[39m: user_project,\n\u001b[1;32m    199\u001b[0m     convert_camel_case_resource_noun_to_snake_case(resource_noun): resource_name,\n\u001b[1;32m    200\u001b[0m }\n\u001b[1;32m    202\u001b[0m \u001b[38;5;28;01mif\u001b[39;00m parent_resource_name_fields:\n",
      "File \u001b[0;32m~/.local/lib/python3.10/site-packages/google/cloud/aiplatform/utils/__init__.py:132\u001b[0m, in \u001b[0;36mvalidate_id\u001b[0;34m(resource_id)\u001b[0m\n\u001b[1;32m    123\u001b[0m \u001b[38;5;250m\u001b[39m\u001b[38;5;124;03m\"\"\"Validate resource ID.\u001b[39;00m\n\u001b[1;32m    124\u001b[0m \n\u001b[1;32m    125\u001b[0m \u001b[38;5;124;03mArgs:\u001b[39;00m\n\u001b[0;32m   (...)\u001b[0m\n\u001b[1;32m    129\u001b[0m \n\u001b[1;32m    130\u001b[0m \u001b[38;5;124;03m\"\"\"\u001b[39;00m\n\u001b[1;32m    131\u001b[0m \u001b[38;5;28;01mif\u001b[39;00m \u001b[38;5;129;01mnot\u001b[39;00m RESOURCE_ID_PATTERN\u001b[38;5;241m.\u001b[39mmatch(resource_id):\n\u001b[0;32m--> 132\u001b[0m     \u001b[38;5;28;01mraise\u001b[39;00m \u001b[38;5;167;01mValueError\u001b[39;00m(\u001b[38;5;124mf\u001b[39m\u001b[38;5;124m\"\u001b[39m\u001b[38;5;124mResource \u001b[39m\u001b[38;5;132;01m{\u001b[39;00mresource_id\u001b[38;5;132;01m}\u001b[39;00m\u001b[38;5;124m is not a valid resource id.\u001b[39m\u001b[38;5;124m\"\u001b[39m)\n",
      "\u001b[0;31mValueError\u001b[0m: Resource [your-index-endpoint-id] is not a valid resource id."
     ]
    }
   ],
   "source": [
    "my_index_endpoint_id = \"[your-index-endpoint-id]\"  # @param {type:\"string\"}\n",
    "my_index_endpoint = aiplatform.MatchingEngineIndexEndpoint(my_index_endpoint_id)"
   ]
  },
  {
   "cell_type": "code",
   "execution_count": null,
   "metadata": {},
   "outputs": [],
   "source": []
  }
 ],
 "metadata": {
  "colab": {
   "provenance": []
  },
  "environment": {
   "kernel": "conda-root-py",
   "name": "workbench-notebooks.m115",
   "type": "gcloud",
   "uri": "gcr.io/deeplearning-platform-release/workbench-notebooks:m115"
  },
  "kernelspec": {
   "display_name": "Python 3 (ipykernel) (Local)",
   "language": "python",
   "name": "conda-root-py"
  },
  "language_info": {
   "codemirror_mode": {
    "name": "ipython",
    "version": 3
   },
   "file_extension": ".py",
   "mimetype": "text/x-python",
   "name": "python",
   "nbconvert_exporter": "python",
   "pygments_lexer": "ipython3",
   "version": "3.10.13"
  }
 },
 "nbformat": 4,
 "nbformat_minor": 4
}
